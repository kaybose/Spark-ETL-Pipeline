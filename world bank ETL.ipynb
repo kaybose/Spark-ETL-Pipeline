{
 "cells": [
  {
   "cell_type": "code",
   "execution_count": 0,
   "metadata": {
    "application/vnd.databricks.v1+cell": {
     "inputWidgets": {},
     "nuid": "331f8c8c-2676-4b4c-b1f9-9b62a2ccd90a",
     "showTitle": false,
     "title": ""
    }
   },
   "outputs": [],
   "source": [
    "from pyspark.sql import SparkSession\n",
    "spark = SparkSession. \\\n",
    "    builder. \\\n",
    "    appName('World Bank ETL'). \\\n",
    "    master('yarn'). \\\n",
    "    getOrCreate() "
   ]
  },
  {
   "cell_type": "code",
   "execution_count": 0,
   "metadata": {
    "application/vnd.databricks.v1+cell": {
     "inputWidgets": {},
     "nuid": "26f24561-e1c6-439c-be4f-606788f22100",
     "showTitle": false,
     "title": ""
    }
   },
   "outputs": [],
   "source": [
    "from pyspark.sql.types import StructType, StructField, IntegerType, StringType, TimestampType"
   ]
  },
  {
   "cell_type": "code",
   "execution_count": 0,
   "metadata": {
    "application/vnd.databricks.v1+cell": {
     "inputWidgets": {},
     "nuid": "33d28c6e-6be7-4128-ad06-42c4da05bb56",
     "showTitle": false,
     "title": ""
    }
   },
   "outputs": [],
   "source": [
    "cust_schema = StructType([\\\n",
    "                    StructField(\"pid\",StringType(),True),\\\n",
    "                    StructField(\"regionname\",StringType(),True),\\\n",
    "                    StructField(\"countryname\",StringType(),False),\\\n",
    "                    StructField(\"boardapprovaldate\",TimestampType(),True),\\\n",
    "                    StructField(\"closingdate\",TimestampType(),True),\\\n",
    "                    StructField(\"curr_project_cost\",IntegerType(),True),\\\n",
    "                    StructField(\"curr_ibrd_commitment\",IntegerType(),True),\\\n",
    "                    StructField(\"curr_ida_commitment\",IntegerType(),True),\\\n",
    "                    StructField(\"curr_total_commit\",IntegerType(),True),\\\n",
    "                    StructField(\"grantamt\",IntegerType(),True)])"
   ]
  },
  {
   "cell_type": "code",
   "execution_count": 0,
   "metadata": {
    "application/vnd.databricks.v1+cell": {
     "inputWidgets": {},
     "nuid": "a1f88ab4-f3c4-4ea9-bf4e-d9b6babd12df",
     "showTitle": false,
     "title": ""
    }
   },
   "outputs": [],
   "source": [
    "# Data imported with custom schema applied.\n",
    "df = spark.read.schema(cust_schema).csv('/FileStore/tables/wb_projects_demo.csv')\n",
    "                   "
   ]
  },
  {
   "cell_type": "code",
   "execution_count": 0,
   "metadata": {
    "application/vnd.databricks.v1+cell": {
     "inputWidgets": {},
     "nuid": "87b7242a-82d6-4927-ae66-289b73518b35",
     "showTitle": false,
     "title": ""
    }
   },
   "outputs": [
    {
     "data": {
      "text/plain": [
       "+--------------------+--------------------+--------------------+-------------------+-------------------+-----------------+--------------------+-------------------+-----------------+--------+\n",
       "|                 pid|          regionname|         countryname|  boardapprovaldate|        closingdate|curr_project_cost|curr_ibrd_commitment|curr_ida_commitment|curr_total_commit|grantamt|\n",
       "+--------------------+--------------------+--------------------+-------------------+-------------------+-----------------+--------------------+-------------------+-----------------+--------+\n",
       "|World Bank Projec...|                null|                null|               null|               null|             null|                null|               null|             null|    null|\n",
       "|          Project ID|              Region|             Country|               null|               null|             null|                null|               null|             null|    null|\n",
       "|                  id|          regionname|         countryname|               null|               null|             null|                null|               null|             null|    null|\n",
       "|             P172078|         Africa East|  Republic of Uganda|2022-02-20 00:00:00|2021-08-31 00:00:00|           440000|                   0|                  0|                0|  440000|\n",
       "|             P175694|Middle East and N...|    Republic of Iraq|2022-02-16 00:00:00|               null|          5000000|                   0|                  0|                0| 5000000|\n",
       "|             P171997|         Africa West| Republic of Liberia|2022-02-09 00:00:00|2027-04-30 00:00:00|         40000000|                   0|           40000000|         40000000|       0|\n",
       "|             P166189|         Africa West|   Republic of Congo|2022-02-08 00:00:00|               null|         15580000|                   0|                  0|                0|15580000|\n",
       "|             P174399|          South Asia|   Kingdom of Bhutan|2022-02-03 00:00:00|               null|         43010000|                   0|           20000000|         20000000|       0|\n",
       "|             P176403|Middle East and N...|  West Bank and Gaza|2022-02-02 00:00:00|               null|          3750000|                   0|                  0|                0| 3750000|\n",
       "|             P178159|              Africa|              Africa|2022-02-02 00:00:00|2024-01-31 00:00:00|          1000000|                   0|                  0|                0| 1000000|\n",
       "|             P176983|Latin America and...| Republic of Ecuador|2022-02-01 00:00:00|2023-01-31 00:00:00|        700000000|           700000000|                  0|        700000000|       0|\n",
       "|             P172800|         Africa West|Republic of Cote ...|2022-01-31 00:00:00|2026-12-31 00:00:00|        150000000|                   0|          150000000|        150000000|       0|\n",
       "|             P173076|Europe and Centra...| Republic of Moldova|2022-01-31 00:00:00|2027-01-31 00:00:00|         52800000|                   0|           50000000|         50000000|       0|\n",
       "|             P174875|         Africa East|Somali Democratic...|2022-01-26 00:00:00|               null|          4850000|                   0|                  0|                0| 4850000|\n",
       "|             P167798|         Africa West|      Western Africa|2022-01-20 00:00:00|               null|        816000000|                   0|          538000000|        538000000|       0|\n",
       "|             P174246|         Africa East|Republic of South...|2022-01-20 00:00:00|2023-06-30 00:00:00|        750000000|           750000000|                  0|        750000000|       0|\n",
       "|             P177200|               Other|               World|2022-01-20 00:00:00|               null|          2260000|                   0|                  0|                0|  740000|\n",
       "|             P174564|          South Asia|   Republic of India|2022-01-19 00:00:00|2028-08-31 00:00:00|        753000000|           125000000|                  0|        125000000|       0|\n",
       "|             P176105|Latin America and...|Oriental Republic...|2022-01-19 00:00:00|2027-06-30 00:00:00|         40000000|            40000000|                  0|         40000000|       0|\n",
       "|             P171438|Europe and Centra...| Republic of Albania|2022-01-19 00:00:00|               null|         34600000|            34600000|                  0|         34600000|       0|\n",
       "+--------------------+--------------------+--------------------+-------------------+-------------------+-----------------+--------------------+-------------------+-----------------+--------+\n",
       "only showing top 20 rows\n",
       "\n"
      ]
     },
     "metadata": {
      "application/vnd.databricks.v1+output": {
       "addedWidgets": {},
       "arguments": {},
       "data": "+--------------------+--------------------+--------------------+-------------------+-------------------+-----------------+--------------------+-------------------+-----------------+--------+\n|                 pid|          regionname|         countryname|  boardapprovaldate|        closingdate|curr_project_cost|curr_ibrd_commitment|curr_ida_commitment|curr_total_commit|grantamt|\n+--------------------+--------------------+--------------------+-------------------+-------------------+-----------------+--------------------+-------------------+-----------------+--------+\n|World Bank Projec...|                null|                null|               null|               null|             null|                null|               null|             null|    null|\n|          Project ID|              Region|             Country|               null|               null|             null|                null|               null|             null|    null|\n|                  id|          regionname|         countryname|               null|               null|             null|                null|               null|             null|    null|\n|             P172078|         Africa East|  Republic of Uganda|2022-02-20 00:00:00|2021-08-31 00:00:00|           440000|                   0|                  0|                0|  440000|\n|             P175694|Middle East and N...|    Republic of Iraq|2022-02-16 00:00:00|               null|          5000000|                   0|                  0|                0| 5000000|\n|             P171997|         Africa West| Republic of Liberia|2022-02-09 00:00:00|2027-04-30 00:00:00|         40000000|                   0|           40000000|         40000000|       0|\n|             P166189|         Africa West|   Republic of Congo|2022-02-08 00:00:00|               null|         15580000|                   0|                  0|                0|15580000|\n|             P174399|          South Asia|   Kingdom of Bhutan|2022-02-03 00:00:00|               null|         43010000|                   0|           20000000|         20000000|       0|\n|             P176403|Middle East and N...|  West Bank and Gaza|2022-02-02 00:00:00|               null|          3750000|                   0|                  0|                0| 3750000|\n|             P178159|              Africa|              Africa|2022-02-02 00:00:00|2024-01-31 00:00:00|          1000000|                   0|                  0|                0| 1000000|\n|             P176983|Latin America and...| Republic of Ecuador|2022-02-01 00:00:00|2023-01-31 00:00:00|        700000000|           700000000|                  0|        700000000|       0|\n|             P172800|         Africa West|Republic of Cote ...|2022-01-31 00:00:00|2026-12-31 00:00:00|        150000000|                   0|          150000000|        150000000|       0|\n|             P173076|Europe and Centra...| Republic of Moldova|2022-01-31 00:00:00|2027-01-31 00:00:00|         52800000|                   0|           50000000|         50000000|       0|\n|             P174875|         Africa East|Somali Democratic...|2022-01-26 00:00:00|               null|          4850000|                   0|                  0|                0| 4850000|\n|             P167798|         Africa West|      Western Africa|2022-01-20 00:00:00|               null|        816000000|                   0|          538000000|        538000000|       0|\n|             P174246|         Africa East|Republic of South...|2022-01-20 00:00:00|2023-06-30 00:00:00|        750000000|           750000000|                  0|        750000000|       0|\n|             P177200|               Other|               World|2022-01-20 00:00:00|               null|          2260000|                   0|                  0|                0|  740000|\n|             P174564|          South Asia|   Republic of India|2022-01-19 00:00:00|2028-08-31 00:00:00|        753000000|           125000000|                  0|        125000000|       0|\n|             P176105|Latin America and...|Oriental Republic...|2022-01-19 00:00:00|2027-06-30 00:00:00|         40000000|            40000000|                  0|         40000000|       0|\n|             P171438|Europe and Centra...| Republic of Albania|2022-01-19 00:00:00|               null|         34600000|            34600000|                  0|         34600000|       0|\n+--------------------+--------------------+--------------------+-------------------+-------------------+-----------------+--------------------+-------------------+-----------------+--------+\nonly showing top 20 rows\n\n",
       "datasetInfos": [],
       "metadata": {},
       "removedWidgets": [],
       "type": "ansi"
      }
     },
     "output_type": "display_data"
    }
   ],
   "source": [
    "df.show()"
   ]
  },
  {
   "cell_type": "code",
   "execution_count": 0,
   "metadata": {
    "application/vnd.databricks.v1+cell": {
     "inputWidgets": {},
     "nuid": "9601f1c2-676d-4322-ad5b-9a6e7abf2418",
     "showTitle": false,
     "title": ""
    }
   },
   "outputs": [],
   "source": [
    "from pyspark.sql.functions import monotonically_increasing_id, col, lit, split\n",
    "from pyspark.sql.types import *"
   ]
  },
  {
   "cell_type": "code",
   "execution_count": 0,
   "metadata": {
    "application/vnd.databricks.v1+cell": {
     "inputWidgets": {},
     "nuid": "5499a670-5f5b-4296-965f-fbbcbb878822",
     "showTitle": false,
     "title": ""
    }
   },
   "outputs": [],
   "source": [
    "#df.withColumn(\"Index\",monotonically_increasing_id)\n",
    "\n",
    " #.filter('Index > 2)\n",
    "\n",
    " #.drop(\"Index\")\n",
    "df1 = df.withColumn(\"Index\",monotonically_increasing_id())\n",
    "    "
   ]
  },
  {
   "cell_type": "code",
   "execution_count": 0,
   "metadata": {
    "application/vnd.databricks.v1+cell": {
     "inputWidgets": {},
     "nuid": "b78980a3-5108-4c67-8ea7-ea00e9601afb",
     "showTitle": false,
     "title": ""
    }
   },
   "outputs": [
    {
     "data": {
      "text/plain": [
       "+-----+\n",
       "|Index|\n",
       "+-----+\n",
       "|    0|\n",
       "|    1|\n",
       "|    2|\n",
       "|    3|\n",
       "|    4|\n",
       "|    5|\n",
       "|    6|\n",
       "|    7|\n",
       "|    8|\n",
       "|    9|\n",
       "|   10|\n",
       "|   11|\n",
       "|   12|\n",
       "|   13|\n",
       "|   14|\n",
       "|   15|\n",
       "|   16|\n",
       "|   17|\n",
       "|   18|\n",
       "|   19|\n",
       "+-----+\n",
       "only showing top 20 rows\n",
       "\n"
      ]
     },
     "metadata": {
      "application/vnd.databricks.v1+output": {
       "addedWidgets": {},
       "arguments": {},
       "data": "+-----+\n|Index|\n+-----+\n|    0|\n|    1|\n|    2|\n|    3|\n|    4|\n|    5|\n|    6|\n|    7|\n|    8|\n|    9|\n|   10|\n|   11|\n|   12|\n|   13|\n|   14|\n|   15|\n|   16|\n|   17|\n|   18|\n|   19|\n+-----+\nonly showing top 20 rows\n\n",
       "datasetInfos": [],
       "metadata": {},
       "removedWidgets": [],
       "type": "ansi"
      }
     },
     "output_type": "display_data"
    }
   ],
   "source": [
    "df1.select(\"Index\").show()"
   ]
  },
  {
   "cell_type": "code",
   "execution_count": 0,
   "metadata": {
    "application/vnd.databricks.v1+cell": {
     "inputWidgets": {},
     "nuid": "b32bbfdf-cf7e-4cba-8d17-892b44a60f85",
     "showTitle": false,
     "title": ""
    }
   },
   "outputs": [],
   "source": [
    "#First three columns will be discarded.\n",
    "df2 = df1.filter('index > 2').drop(\"Index\")"
   ]
  },
  {
   "cell_type": "code",
   "execution_count": 0,
   "metadata": {
    "application/vnd.databricks.v1+cell": {
     "inputWidgets": {},
     "nuid": "276d9c36-4ce2-4be5-976a-6a0fe93f0f2e",
     "showTitle": false,
     "title": ""
    }
   },
   "outputs": [
    {
     "data": {
      "text/plain": [
       "+-------+--------------------+--------------------+-------------------+-------------------+-----------------+--------------------+-------------------+-----------------+--------+\n",
       "|    pid|          regionname|         countryname|  boardapprovaldate|        closingdate|curr_project_cost|curr_ibrd_commitment|curr_ida_commitment|curr_total_commit|grantamt|\n",
       "+-------+--------------------+--------------------+-------------------+-------------------+-----------------+--------------------+-------------------+-----------------+--------+\n",
       "|P172078|         Africa East|  Republic of Uganda|2022-02-20 00:00:00|2021-08-31 00:00:00|           440000|                   0|                  0|                0|  440000|\n",
       "|P175694|Middle East and N...|    Republic of Iraq|2022-02-16 00:00:00|               null|          5000000|                   0|                  0|                0| 5000000|\n",
       "|P171997|         Africa West| Republic of Liberia|2022-02-09 00:00:00|2027-04-30 00:00:00|         40000000|                   0|           40000000|         40000000|       0|\n",
       "|P166189|         Africa West|   Republic of Congo|2022-02-08 00:00:00|               null|         15580000|                   0|                  0|                0|15580000|\n",
       "|P174399|          South Asia|   Kingdom of Bhutan|2022-02-03 00:00:00|               null|         43010000|                   0|           20000000|         20000000|       0|\n",
       "|P176403|Middle East and N...|  West Bank and Gaza|2022-02-02 00:00:00|               null|          3750000|                   0|                  0|                0| 3750000|\n",
       "|P178159|              Africa|              Africa|2022-02-02 00:00:00|2024-01-31 00:00:00|          1000000|                   0|                  0|                0| 1000000|\n",
       "|P176983|Latin America and...| Republic of Ecuador|2022-02-01 00:00:00|2023-01-31 00:00:00|        700000000|           700000000|                  0|        700000000|       0|\n",
       "|P172800|         Africa West|Republic of Cote ...|2022-01-31 00:00:00|2026-12-31 00:00:00|        150000000|                   0|          150000000|        150000000|       0|\n",
       "|P173076|Europe and Centra...| Republic of Moldova|2022-01-31 00:00:00|2027-01-31 00:00:00|         52800000|                   0|           50000000|         50000000|       0|\n",
       "|P174875|         Africa East|Somali Democratic...|2022-01-26 00:00:00|               null|          4850000|                   0|                  0|                0| 4850000|\n",
       "|P167798|         Africa West|      Western Africa|2022-01-20 00:00:00|               null|        816000000|                   0|          538000000|        538000000|       0|\n",
       "|P174246|         Africa East|Republic of South...|2022-01-20 00:00:00|2023-06-30 00:00:00|        750000000|           750000000|                  0|        750000000|       0|\n",
       "|P177200|               Other|               World|2022-01-20 00:00:00|               null|          2260000|                   0|                  0|                0|  740000|\n",
       "|P174564|          South Asia|   Republic of India|2022-01-19 00:00:00|2028-08-31 00:00:00|        753000000|           125000000|                  0|        125000000|       0|\n",
       "|P176105|Latin America and...|Oriental Republic...|2022-01-19 00:00:00|2027-06-30 00:00:00|         40000000|            40000000|                  0|         40000000|       0|\n",
       "|P171438|Europe and Centra...| Republic of Albania|2022-01-19 00:00:00|               null|         34600000|            34600000|                  0|         34600000|       0|\n",
       "|P174335|East Asia and Pac...| Kingdom of Cambodia|2022-01-18 00:00:00|2026-11-30 00:00:00|         69250000|                   0|           60000000|         60000000|       0|\n",
       "|P171660|East Asia and Pac...|Socialist Republi...|2022-01-18 00:00:00|               null|          2700000|                   0|                  0|                0| 2500000|\n",
       "|P173450|Europe and Centra...|Republic of Uzbek...|2022-01-16 00:00:00|2027-07-15 00:00:00|         50000000|                   0|           50000000|         50000000|       0|\n",
       "+-------+--------------------+--------------------+-------------------+-------------------+-----------------+--------------------+-------------------+-----------------+--------+\n",
       "only showing top 20 rows\n",
       "\n"
      ]
     },
     "metadata": {
      "application/vnd.databricks.v1+output": {
       "addedWidgets": {},
       "arguments": {},
       "data": "+-------+--------------------+--------------------+-------------------+-------------------+-----------------+--------------------+-------------------+-----------------+--------+\n|    pid|          regionname|         countryname|  boardapprovaldate|        closingdate|curr_project_cost|curr_ibrd_commitment|curr_ida_commitment|curr_total_commit|grantamt|\n+-------+--------------------+--------------------+-------------------+-------------------+-----------------+--------------------+-------------------+-----------------+--------+\n|P172078|         Africa East|  Republic of Uganda|2022-02-20 00:00:00|2021-08-31 00:00:00|           440000|                   0|                  0|                0|  440000|\n|P175694|Middle East and N...|    Republic of Iraq|2022-02-16 00:00:00|               null|          5000000|                   0|                  0|                0| 5000000|\n|P171997|         Africa West| Republic of Liberia|2022-02-09 00:00:00|2027-04-30 00:00:00|         40000000|                   0|           40000000|         40000000|       0|\n|P166189|         Africa West|   Republic of Congo|2022-02-08 00:00:00|               null|         15580000|                   0|                  0|                0|15580000|\n|P174399|          South Asia|   Kingdom of Bhutan|2022-02-03 00:00:00|               null|         43010000|                   0|           20000000|         20000000|       0|\n|P176403|Middle East and N...|  West Bank and Gaza|2022-02-02 00:00:00|               null|          3750000|                   0|                  0|                0| 3750000|\n|P178159|              Africa|              Africa|2022-02-02 00:00:00|2024-01-31 00:00:00|          1000000|                   0|                  0|                0| 1000000|\n|P176983|Latin America and...| Republic of Ecuador|2022-02-01 00:00:00|2023-01-31 00:00:00|        700000000|           700000000|                  0|        700000000|       0|\n|P172800|         Africa West|Republic of Cote ...|2022-01-31 00:00:00|2026-12-31 00:00:00|        150000000|                   0|          150000000|        150000000|       0|\n|P173076|Europe and Centra...| Republic of Moldova|2022-01-31 00:00:00|2027-01-31 00:00:00|         52800000|                   0|           50000000|         50000000|       0|\n|P174875|         Africa East|Somali Democratic...|2022-01-26 00:00:00|               null|          4850000|                   0|                  0|                0| 4850000|\n|P167798|         Africa West|      Western Africa|2022-01-20 00:00:00|               null|        816000000|                   0|          538000000|        538000000|       0|\n|P174246|         Africa East|Republic of South...|2022-01-20 00:00:00|2023-06-30 00:00:00|        750000000|           750000000|                  0|        750000000|       0|\n|P177200|               Other|               World|2022-01-20 00:00:00|               null|          2260000|                   0|                  0|                0|  740000|\n|P174564|          South Asia|   Republic of India|2022-01-19 00:00:00|2028-08-31 00:00:00|        753000000|           125000000|                  0|        125000000|       0|\n|P176105|Latin America and...|Oriental Republic...|2022-01-19 00:00:00|2027-06-30 00:00:00|         40000000|            40000000|                  0|         40000000|       0|\n|P171438|Europe and Centra...| Republic of Albania|2022-01-19 00:00:00|               null|         34600000|            34600000|                  0|         34600000|       0|\n|P174335|East Asia and Pac...| Kingdom of Cambodia|2022-01-18 00:00:00|2026-11-30 00:00:00|         69250000|                   0|           60000000|         60000000|       0|\n|P171660|East Asia and Pac...|Socialist Republi...|2022-01-18 00:00:00|               null|          2700000|                   0|                  0|                0| 2500000|\n|P173450|Europe and Centra...|Republic of Uzbek...|2022-01-16 00:00:00|2027-07-15 00:00:00|         50000000|                   0|           50000000|         50000000|       0|\n+-------+--------------------+--------------------+-------------------+-------------------+-----------------+--------------------+-------------------+-----------------+--------+\nonly showing top 20 rows\n\n",
       "datasetInfos": [],
       "metadata": {},
       "removedWidgets": [],
       "type": "ansi"
      }
     },
     "output_type": "display_data"
    }
   ],
   "source": [
    "df2.show()"
   ]
  },
  {
   "cell_type": "code",
   "execution_count": 0,
   "metadata": {
    "application/vnd.databricks.v1+cell": {
     "inputWidgets": {},
     "nuid": "64d3e665-5bb1-41f0-9e82-55f73920932a",
     "showTitle": false,
     "title": ""
    }
   },
   "outputs": [
    {
     "data": {
      "text/plain": [
       "root\n",
       " |-- pid: string (nullable = true)\n",
       " |-- regionname: string (nullable = true)\n",
       " |-- countryname: string (nullable = true)\n",
       " |-- boardapprovaldate: timestamp (nullable = true)\n",
       " |-- closingdate: timestamp (nullable = true)\n",
       " |-- curr_project_cost: integer (nullable = true)\n",
       " |-- curr_ibrd_commitment: integer (nullable = true)\n",
       " |-- curr_ida_commitment: integer (nullable = true)\n",
       " |-- curr_total_commit: integer (nullable = true)\n",
       " |-- grantamt: integer (nullable = true)\n",
       "\n"
      ]
     },
     "metadata": {
      "application/vnd.databricks.v1+output": {
       "addedWidgets": {},
       "arguments": {},
       "data": "root\n |-- pid: string (nullable = true)\n |-- regionname: string (nullable = true)\n |-- countryname: string (nullable = true)\n |-- boardapprovaldate: timestamp (nullable = true)\n |-- closingdate: timestamp (nullable = true)\n |-- curr_project_cost: integer (nullable = true)\n |-- curr_ibrd_commitment: integer (nullable = true)\n |-- curr_ida_commitment: integer (nullable = true)\n |-- curr_total_commit: integer (nullable = true)\n |-- grantamt: integer (nullable = true)\n\n",
       "datasetInfos": [],
       "metadata": {},
       "removedWidgets": [],
       "type": "ansi"
      }
     },
     "output_type": "display_data"
    }
   ],
   "source": [
    "df2.printSchema()"
   ]
  },
  {
   "cell_type": "code",
   "execution_count": 0,
   "metadata": {
    "application/vnd.databricks.v1+cell": {
     "inputWidgets": {},
     "nuid": "80d462fc-52b8-45b9-876b-3ccffa767a71",
     "showTitle": false,
     "title": ""
    }
   },
   "outputs": [],
   "source": [
    "# Remove empty rows"
   ]
  },
  {
   "cell_type": "code",
   "execution_count": 0,
   "metadata": {
    "application/vnd.databricks.v1+cell": {
     "inputWidgets": {},
     "nuid": "c1eccc47-b1b2-4860-a581-5306b463ff81",
     "showTitle": false,
     "title": ""
    }
   },
   "outputs": [],
   "source": [
    "# Remove duplicate data"
   ]
  },
  {
   "cell_type": "code",
   "execution_count": 0,
   "metadata": {
    "application/vnd.databricks.v1+cell": {
     "inputWidgets": {},
     "nuid": "aa5a0a74-e73e-4b1f-af9f-b29f109041ed",
     "showTitle": false,
     "title": ""
    }
   },
   "outputs": [
    {
     "data": {
      "text/plain": [
       "Out[15]: 21427"
      ]
     },
     "metadata": {
      "application/vnd.databricks.v1+output": {
       "addedWidgets": {},
       "arguments": {},
       "data": "Out[15]: 21427",
       "datasetInfos": [],
       "metadata": {},
       "removedWidgets": [],
       "type": "ansi"
      }
     },
     "output_type": "display_data"
    }
   ],
   "source": [
    "#checking for duplicates\n",
    "df2.count()"
   ]
  },
  {
   "cell_type": "code",
   "execution_count": 0,
   "metadata": {
    "application/vnd.databricks.v1+cell": {
     "inputWidgets": {},
     "nuid": "4a2b2876-ad88-48fc-822d-cd16b03e0c2e",
     "showTitle": false,
     "title": ""
    }
   },
   "outputs": [
    {
     "data": {
      "text/plain": [
       "Out[16]: 21427"
      ]
     },
     "metadata": {
      "application/vnd.databricks.v1+output": {
       "addedWidgets": {},
       "arguments": {},
       "data": "Out[16]: 21427",
       "datasetInfos": [],
       "metadata": {},
       "removedWidgets": [],
       "type": "ansi"
      }
     },
     "output_type": "display_data"
    }
   ],
   "source": [
    "df2.distinct().count()"
   ]
  },
  {
   "cell_type": "code",
   "execution_count": 0,
   "metadata": {
    "application/vnd.databricks.v1+cell": {
     "inputWidgets": {},
     "nuid": "1cdffe0a-9c67-4fba-b76b-68563f173d3b",
     "showTitle": false,
     "title": ""
    }
   },
   "outputs": [],
   "source": [
    "# Remove null country name fields"
   ]
  },
  {
   "cell_type": "code",
   "execution_count": 0,
   "metadata": {
    "application/vnd.databricks.v1+cell": {
     "inputWidgets": {},
     "nuid": "7424766b-e06f-4e48-93fc-09b476c29ab5",
     "showTitle": false,
     "title": ""
    }
   },
   "outputs": [],
   "source": [
    "#from pyspark.sql.functions import when\n",
    "#from pyspark.sql.functions import expr,split"
   ]
  },
  {
   "cell_type": "code",
   "execution_count": 0,
   "metadata": {
    "application/vnd.databricks.v1+cell": {
     "inputWidgets": {},
     "nuid": "30fc9961-4d04-4790-ade2-50619ed3f0c9",
     "showTitle": false,
     "title": ""
    }
   },
   "outputs": [
    {
     "data": {
      "text/plain": [
       "+-------+----------+-----------+-----------------+-----------+-----------------+--------------------+-------------------+-----------------+--------+\n",
       "|    pid|regionname|countryname|boardapprovaldate|closingdate|curr_project_cost|curr_ibrd_commitment|curr_ida_commitment|curr_total_commit|grantamt|\n",
       "+-------+----------+-----------+-----------------+-----------+-----------------+--------------------+-------------------+-----------------+--------+\n",
       "|P175659|      null|       null|             null|       null|         26000000|                   0|           20000000|         20000000|       0|\n",
       "|P070918|      null|       null|             null|       null|                0|                   0|                  0|                0|       0|\n",
       "+-------+----------+-----------+-----------------+-----------+-----------------+--------------------+-------------------+-----------------+--------+\n",
       "\n"
      ]
     },
     "metadata": {
      "application/vnd.databricks.v1+output": {
       "addedWidgets": {},
       "arguments": {},
       "data": "+-------+----------+-----------+-----------------+-----------+-----------------+--------------------+-------------------+-----------------+--------+\n|    pid|regionname|countryname|boardapprovaldate|closingdate|curr_project_cost|curr_ibrd_commitment|curr_ida_commitment|curr_total_commit|grantamt|\n+-------+----------+-----------+-----------------+-----------+-----------------+--------------------+-------------------+-----------------+--------+\n|P175659|      null|       null|             null|       null|         26000000|                   0|           20000000|         20000000|       0|\n|P070918|      null|       null|             null|       null|                0|                   0|                  0|                0|       0|\n+-------+----------+-----------+-----------------+-----------+-----------------+--------------------+-------------------+-----------------+--------+\n\n",
       "datasetInfos": [],
       "metadata": {},
       "removedWidgets": [],
       "type": "ansi"
      }
     },
     "output_type": "display_data"
    }
   ],
   "source": [
    "#check for null country name rows\n",
    "df2.filter(\"countryname IS NULL\").show()"
   ]
  },
  {
   "cell_type": "code",
   "execution_count": 0,
   "metadata": {
    "application/vnd.databricks.v1+cell": {
     "inputWidgets": {},
     "nuid": "a0218417-dfd3-4dd2-bd24-02600353474c",
     "showTitle": false,
     "title": ""
    }
   },
   "outputs": [],
   "source": [
    "#filter out null countryname rows\n",
    "df3 = df2.filter(\"countryname IS NOT NULL\")"
   ]
  },
  {
   "cell_type": "code",
   "execution_count": 0,
   "metadata": {
    "application/vnd.databricks.v1+cell": {
     "inputWidgets": {},
     "nuid": "d52e481c-0ca0-4f5e-a346-3b69153c2466",
     "showTitle": false,
     "title": ""
    }
   },
   "outputs": [],
   "source": [
    "# Formatt the dates"
   ]
  },
  {
   "cell_type": "code",
   "execution_count": 0,
   "metadata": {
    "application/vnd.databricks.v1+cell": {
     "inputWidgets": {},
     "nuid": "870f7ab4-9531-42ec-8cbb-dc72a9fc525a",
     "showTitle": false,
     "title": ""
    }
   },
   "outputs": [
    {
     "data": {
      "text/plain": [
       "root\n",
       " |-- pid: string (nullable = true)\n",
       " |-- regionname: string (nullable = true)\n",
       " |-- countryname: string (nullable = true)\n",
       " |-- boardapprovaldate: timestamp (nullable = true)\n",
       " |-- closingdate: timestamp (nullable = true)\n",
       " |-- curr_project_cost: integer (nullable = true)\n",
       " |-- curr_ibrd_commitment: integer (nullable = true)\n",
       " |-- curr_ida_commitment: integer (nullable = true)\n",
       " |-- curr_total_commit: integer (nullable = true)\n",
       " |-- grantamt: integer (nullable = true)\n",
       "\n"
      ]
     },
     "metadata": {
      "application/vnd.databricks.v1+output": {
       "addedWidgets": {},
       "arguments": {},
       "data": "root\n |-- pid: string (nullable = true)\n |-- regionname: string (nullable = true)\n |-- countryname: string (nullable = true)\n |-- boardapprovaldate: timestamp (nullable = true)\n |-- closingdate: timestamp (nullable = true)\n |-- curr_project_cost: integer (nullable = true)\n |-- curr_ibrd_commitment: integer (nullable = true)\n |-- curr_ida_commitment: integer (nullable = true)\n |-- curr_total_commit: integer (nullable = true)\n |-- grantamt: integer (nullable = true)\n\n",
       "datasetInfos": [],
       "metadata": {},
       "removedWidgets": [],
       "type": "ansi"
      }
     },
     "output_type": "display_data"
    }
   ],
   "source": [
    "df3.printSchema()\n"
   ]
  },
  {
   "cell_type": "code",
   "execution_count": 0,
   "metadata": {
    "application/vnd.databricks.v1+cell": {
     "inputWidgets": {},
     "nuid": "f0c3eaf1-4f0c-4809-8c95-8d3dcf6a445e",
     "showTitle": false,
     "title": ""
    }
   },
   "outputs": [],
   "source": [
    "#countryname has ',' separated values eg:Taiwan.Therefore we need to split() the values and clean the data  WARNING: cannot split as 2 taiwans present Taiwan and Taiwan, China\n",
    "#also the boardapproval date and closing date has date with time, from which the time needs to be removed\n",
    "df4 = df3.\\\n",
    "        withColumn(\"boardapprovaldate\", split(\"boardapprovaldate\", \" \")[0]).\\\n",
    "        withColumn(\"closingdate\", split(\"closingdate\", \" \")[0])\n",
    "       \n",
    "        \n",
    "#select(\"pid\",\"regionname\",\"countryname\",\"boardapprovaldate\",\"closingdate\",\"curr_project_cost\",\"curr_ibrd_commitment\",\"curr_ida_commitment\",\"curr_total_commit\",\"grantamt\").\n"
   ]
  },
  {
   "cell_type": "code",
   "execution_count": 0,
   "metadata": {
    "application/vnd.databricks.v1+cell": {
     "inputWidgets": {},
     "nuid": "d42f2362-4b97-4a1c-8708-bd340e63ff12",
     "showTitle": false,
     "title": ""
    }
   },
   "outputs": [
    {
     "data": {
      "text/plain": [
       "+-------+--------------------+--------------------+-----------------+-----------+-----------------+--------------------+-------------------+-----------------+--------+\n",
       "|    pid|          regionname|         countryname|boardapprovaldate|closingdate|curr_project_cost|curr_ibrd_commitment|curr_ida_commitment|curr_total_commit|grantamt|\n",
       "+-------+--------------------+--------------------+-----------------+-----------+-----------------+--------------------+-------------------+-----------------+--------+\n",
       "|P172078|         Africa East|  Republic of Uganda|       2022-02-20| 2021-08-31|           440000|                   0|                  0|                0|  440000|\n",
       "|P175694|Middle East and N...|    Republic of Iraq|       2022-02-16|       null|          5000000|                   0|                  0|                0| 5000000|\n",
       "|P171997|         Africa West| Republic of Liberia|       2022-02-09| 2027-04-30|         40000000|                   0|           40000000|         40000000|       0|\n",
       "|P166189|         Africa West|   Republic of Congo|       2022-02-08|       null|         15580000|                   0|                  0|                0|15580000|\n",
       "|P174399|          South Asia|   Kingdom of Bhutan|       2022-02-03|       null|         43010000|                   0|           20000000|         20000000|       0|\n",
       "|P176403|Middle East and N...|  West Bank and Gaza|       2022-02-02|       null|          3750000|                   0|                  0|                0| 3750000|\n",
       "|P178159|              Africa|              Africa|       2022-02-02| 2024-01-31|          1000000|                   0|                  0|                0| 1000000|\n",
       "|P176983|Latin America and...| Republic of Ecuador|       2022-02-01| 2023-01-31|        700000000|           700000000|                  0|        700000000|       0|\n",
       "|P172800|         Africa West|Republic of Cote ...|       2022-01-31| 2026-12-31|        150000000|                   0|          150000000|        150000000|       0|\n",
       "|P173076|Europe and Centra...| Republic of Moldova|       2022-01-31| 2027-01-31|         52800000|                   0|           50000000|         50000000|       0|\n",
       "|P174875|         Africa East|Somali Democratic...|       2022-01-26|       null|          4850000|                   0|                  0|                0| 4850000|\n",
       "|P167798|         Africa West|      Western Africa|       2022-01-20|       null|        816000000|                   0|          538000000|        538000000|       0|\n",
       "|P174246|         Africa East|Republic of South...|       2022-01-20| 2023-06-30|        750000000|           750000000|                  0|        750000000|       0|\n",
       "|P177200|               Other|               World|       2022-01-20|       null|          2260000|                   0|                  0|                0|  740000|\n",
       "|P174564|          South Asia|   Republic of India|       2022-01-19| 2028-08-31|        753000000|           125000000|                  0|        125000000|       0|\n",
       "|P176105|Latin America and...|Oriental Republic...|       2022-01-19| 2027-06-30|         40000000|            40000000|                  0|         40000000|       0|\n",
       "|P171438|Europe and Centra...| Republic of Albania|       2022-01-19|       null|         34600000|            34600000|                  0|         34600000|       0|\n",
       "|P174335|East Asia and Pac...| Kingdom of Cambodia|       2022-01-18| 2026-11-30|         69250000|                   0|           60000000|         60000000|       0|\n",
       "|P171660|East Asia and Pac...|Socialist Republi...|       2022-01-18|       null|          2700000|                   0|                  0|                0| 2500000|\n",
       "|P173450|Europe and Centra...|Republic of Uzbek...|       2022-01-16| 2027-07-15|         50000000|                   0|           50000000|         50000000|       0|\n",
       "+-------+--------------------+--------------------+-----------------+-----------+-----------------+--------------------+-------------------+-----------------+--------+\n",
       "only showing top 20 rows\n",
       "\n"
      ]
     },
     "metadata": {
      "application/vnd.databricks.v1+output": {
       "addedWidgets": {},
       "arguments": {},
       "data": "+-------+--------------------+--------------------+-----------------+-----------+-----------------+--------------------+-------------------+-----------------+--------+\n|    pid|          regionname|         countryname|boardapprovaldate|closingdate|curr_project_cost|curr_ibrd_commitment|curr_ida_commitment|curr_total_commit|grantamt|\n+-------+--------------------+--------------------+-----------------+-----------+-----------------+--------------------+-------------------+-----------------+--------+\n|P172078|         Africa East|  Republic of Uganda|       2022-02-20| 2021-08-31|           440000|                   0|                  0|                0|  440000|\n|P175694|Middle East and N...|    Republic of Iraq|       2022-02-16|       null|          5000000|                   0|                  0|                0| 5000000|\n|P171997|         Africa West| Republic of Liberia|       2022-02-09| 2027-04-30|         40000000|                   0|           40000000|         40000000|       0|\n|P166189|         Africa West|   Republic of Congo|       2022-02-08|       null|         15580000|                   0|                  0|                0|15580000|\n|P174399|          South Asia|   Kingdom of Bhutan|       2022-02-03|       null|         43010000|                   0|           20000000|         20000000|       0|\n|P176403|Middle East and N...|  West Bank and Gaza|       2022-02-02|       null|          3750000|                   0|                  0|                0| 3750000|\n|P178159|              Africa|              Africa|       2022-02-02| 2024-01-31|          1000000|                   0|                  0|                0| 1000000|\n|P176983|Latin America and...| Republic of Ecuador|       2022-02-01| 2023-01-31|        700000000|           700000000|                  0|        700000000|       0|\n|P172800|         Africa West|Republic of Cote ...|       2022-01-31| 2026-12-31|        150000000|                   0|          150000000|        150000000|       0|\n|P173076|Europe and Centra...| Republic of Moldova|       2022-01-31| 2027-01-31|         52800000|                   0|           50000000|         50000000|       0|\n|P174875|         Africa East|Somali Democratic...|       2022-01-26|       null|          4850000|                   0|                  0|                0| 4850000|\n|P167798|         Africa West|      Western Africa|       2022-01-20|       null|        816000000|                   0|          538000000|        538000000|       0|\n|P174246|         Africa East|Republic of South...|       2022-01-20| 2023-06-30|        750000000|           750000000|                  0|        750000000|       0|\n|P177200|               Other|               World|       2022-01-20|       null|          2260000|                   0|                  0|                0|  740000|\n|P174564|          South Asia|   Republic of India|       2022-01-19| 2028-08-31|        753000000|           125000000|                  0|        125000000|       0|\n|P176105|Latin America and...|Oriental Republic...|       2022-01-19| 2027-06-30|         40000000|            40000000|                  0|         40000000|       0|\n|P171438|Europe and Centra...| Republic of Albania|       2022-01-19|       null|         34600000|            34600000|                  0|         34600000|       0|\n|P174335|East Asia and Pac...| Kingdom of Cambodia|       2022-01-18| 2026-11-30|         69250000|                   0|           60000000|         60000000|       0|\n|P171660|East Asia and Pac...|Socialist Republi...|       2022-01-18|       null|          2700000|                   0|                  0|                0| 2500000|\n|P173450|Europe and Centra...|Republic of Uzbek...|       2022-01-16| 2027-07-15|         50000000|                   0|           50000000|         50000000|       0|\n+-------+--------------------+--------------------+-----------------+-----------+-----------------+--------------------+-------------------+-----------------+--------+\nonly showing top 20 rows\n\n",
       "datasetInfos": [],
       "metadata": {},
       "removedWidgets": [],
       "type": "ansi"
      }
     },
     "output_type": "display_data"
    }
   ],
   "source": [
    "df4.show()"
   ]
  },
  {
   "cell_type": "code",
   "execution_count": 0,
   "metadata": {
    "application/vnd.databricks.v1+cell": {
     "inputWidgets": {},
     "nuid": "fccca50f-cbf2-4fee-814a-120349c4a2cf",
     "showTitle": false,
     "title": ""
    }
   },
   "outputs": [
    {
     "data": {
      "text/plain": [
       "Collecting pycountry\r\n",
       "  Using cached pycountry-22.3.5-py2.py3-none-any.whl\r\n",
       "Requirement already satisfied: setuptools in /usr/local/lib/python3.8/dist-packages (from pycountry) (52.0.0)\r\n",
       "Installing collected packages: pycountry\r\n",
       "Successfully installed pycountry-22.3.5\r\n",
       "\u001b[33mWARNING: You are using pip version 21.0.1; however, version 22.0.3 is available.\r\n",
       "You should consider upgrading via the '/databricks/python3/bin/python -m pip install --upgrade pip' command.\u001b[0m\r\n"
      ]
     },
     "metadata": {
      "application/vnd.databricks.v1+output": {
       "addedWidgets": {},
       "arguments": {},
       "data": "Collecting pycountry\r\n  Using cached pycountry-22.3.5-py2.py3-none-any.whl\r\nRequirement already satisfied: setuptools in /usr/local/lib/python3.8/dist-packages (from pycountry) (52.0.0)\r\nInstalling collected packages: pycountry\r\nSuccessfully installed pycountry-22.3.5\r\n\u001b[33mWARNING: You are using pip version 21.0.1; however, version 22.0.3 is available.\r\nYou should consider upgrading via the '/databricks/python3/bin/python -m pip install --upgrade pip' command.\u001b[0m\r\n",
       "datasetInfos": [],
       "metadata": {},
       "removedWidgets": [],
       "type": "ansi"
      }
     },
     "output_type": "display_data"
    }
   ],
   "source": [
    "#Installing pycountry to match the country names to their aplha_3 ISO-3 codes and keeping them in a column\n",
    "!pip install pycountry"
   ]
  },
  {
   "cell_type": "code",
   "execution_count": 0,
   "metadata": {
    "application/vnd.databricks.v1+cell": {
     "inputWidgets": {},
     "nuid": "ffe8629e-67e3-4b29-9ffe-b59402f73fbe",
     "showTitle": false,
     "title": ""
    }
   },
   "outputs": [],
   "source": [
    "from pycountry import countries"
   ]
  },
  {
   "cell_type": "code",
   "execution_count": 0,
   "metadata": {
    "application/vnd.databricks.v1+cell": {
     "inputWidgets": {},
     "nuid": "b8f69195-6fd7-4fe4-a9f7-644f439ea3f6",
     "showTitle": false,
     "title": ""
    }
   },
   "outputs": [
    {
     "data": {
      "text/plain": [
       "Out[27]: 'TWN'"
      ]
     },
     "metadata": {
      "application/vnd.databricks.v1+output": {
       "addedWidgets": {},
       "arguments": {},
       "data": "Out[27]: 'TWN'",
       "datasetInfos": [],
       "metadata": {},
       "removedWidgets": [],
       "type": "ansi"
      }
     },
     "output_type": "display_data"
    }
   ],
   "source": [
    "countries.get(name='Spain')\n",
    "countries.lookup('taiwan').alpha_3"
   ]
  },
  {
   "cell_type": "code",
   "execution_count": 0,
   "metadata": {
    "application/vnd.databricks.v1+cell": {
     "inputWidgets": {},
     "nuid": "3e52112f-467c-49ac-b4d6-a8322af0b847",
     "showTitle": false,
     "title": ""
    }
   },
   "outputs": [
    {
     "data": {
      "text/plain": [
       "+----------------------------------------+\n",
       "|countryname                             |\n",
       "+----------------------------------------+\n",
       "|South Asia                              |\n",
       "|Republic of Indonesia                   |\n",
       "|EU Accession Countries                  |\n",
       "|Republic of Turkey                      |\n",
       "|Republic of Bulgaria                    |\n",
       "|World                                   |\n",
       "|Islamic Republic of Iran                |\n",
       "|Middle East and North Africa            |\n",
       "|Republic of South Africa                |\n",
       "|Western Balkans                         |\n",
       "|Republic of Namibia                     |\n",
       "|Taiwan, China                           |\n",
       "|Republic of Korea                       |\n",
       "|Republic of the Marshall Islands        |\n",
       "|Organization of Eastern Caribbean States|\n",
       "|State of Israel                         |\n",
       "|Latin America                           |\n",
       "|Republic of Liberia                     |\n",
       "|Malaysia                                |\n",
       "|Republic of Chile                       |\n",
       "|Kingdom of the Netherlands              |\n",
       "|Commonwealth of The Bahamas             |\n",
       "|Republic of Cabo Verde                  |\n",
       "|Republic of Burundi                     |\n",
       "|Republic of Sierra Leone                |\n",
       "|Gabonese Republic                       |\n",
       "|Republic of Benin                       |\n",
       "|Commonwealth of Dominica                |\n",
       "|Grand Duchy of Luxembourg               |\n",
       "|Kingdom of Eswatini                     |\n",
       "|Republic of Peru                        |\n",
       "|Socialist Federal Republic of Yugoslavia|\n",
       "|Republica Bolivariana de Venezuela      |\n",
       "|Republic of Azerbaijan                  |\n",
       "|People's Democratic Republic of Algeria |\n",
       "|Hashemite Kingdom of Jordan             |\n",
       "|Republic of Haiti                       |\n",
       "|Africa                                  |\n",
       "|Republic of Costa Rica                  |\n",
       "|Republic of the Philippines             |\n",
       "|Macedonia, Republic of North            |\n",
       "|Republic of Malta                       |\n",
       "|Kingdom of Norway                       |\n",
       "|Republic of Iraq                        |\n",
       "|Republic of Armenia                     |\n",
       "|Republic of Niger                       |\n",
       "|Democratic Socialist Republic of Sri Lan|\n",
       "|Islamic Republic of Mauritania          |\n",
       "|Republic of El Salvador                 |\n",
       "|Multi-Regional                          |\n",
       "|Republic of Kiribati                    |\n",
       "|Islamic  Republic of Afghanistan        |\n",
       "|Republic of Cote d'Ivoire               |\n",
       "|Republic of Angola                      |\n",
       "|Andean Countries                        |\n",
       "|Hellenic Republic                       |\n",
       "|St. Lucia                               |\n",
       "|St. Kitts and Nevis                     |\n",
       "|Central Asia                            |\n",
       "|American Samoa                          |\n",
       "|Republic of Cameroon                    |\n",
       "|Pacific Islands                         |\n",
       "|Tuvalu                                  |\n",
       "|Republic of Palau                       |\n",
       "|Central America                         |\n",
       "|United Republic of Tanzania             |\n",
       "|Republic of Guatemala                   |\n",
       "|Republic of Finland                     |\n",
       "|Republic of Iceland                     |\n",
       "|Kingdom of Lesotho                      |\n",
       "|Kingdom of Cambodia                     |\n",
       "|Republic of Malawi                      |\n",
       "|Republic of Djibouti                    |\n",
       "|East Asia and Pacific                   |\n",
       "|Republic of Suriname                    |\n",
       "|Republic of Belarus                     |\n",
       "|Kingdom of Denmark                      |\n",
       "|Republic of Togo                        |\n",
       "|Aral Sea                                |\n",
       "|Federative Republic of Brazil           |\n",
       "|Turkmenistan                            |\n",
       "|Republic of Mauritius                   |\n",
       "|Argentine Republic                      |\n",
       "|Republic of Guinea                      |\n",
       "|Republic of the Union of Myanmar        |\n",
       "|Republic of Croatia                     |\n",
       "|Central African Republic                |\n",
       "|Republic of Zambia                      |\n",
       "|Republic of Honduras                    |\n",
       "|Republic of South Sudan                 |\n",
       "|Barbados                                |\n",
       "|Europe and Central Asia                 |\n",
       "|Republic of India                       |\n",
       "|Russian Federation                      |\n",
       "|Ireland                                 |\n",
       "|Republic of Senegal                     |\n",
       "|Democratic Republic of the Congo        |\n",
       "|Caribbean                               |\n",
       "|Republic of Albania                     |\n",
       "|United Mexican States                   |\n",
       "|Republic of Yemen                       |\n",
       "|Republic of Rwanda                      |\n",
       "|Oriental Republic of Uruguay            |\n",
       "|Republic of Uzbekistan                  |\n",
       "|Ukraine                                 |\n",
       "|Western Africa                          |\n",
       "|Eastern Africa                          |\n",
       "|Republic of Congo                       |\n",
       "|Republic of Chad                        |\n",
       "|Kingdom of Belgium                      |\n",
       "|Republic of Serbia                      |\n",
       "|Kingdom of Spain                        |\n",
       "|People's Republic of Bangladesh         |\n",
       "|Republic of Tunisia                     |\n",
       "|Georgia                                 |\n",
       "|Montenegro                              |\n",
       "|Republic of Nicaragua                   |\n",
       "|Mongolia                                |\n",
       "|Sint Maarten                            |\n",
       "|Grenada                                 |\n",
       "|Federated States of Micronesia          |\n",
       "|Republic of Equatorial Guinea           |\n",
       "|Republic of Madagascar                  |\n",
       "|Republic of the Sudan                   |\n",
       "|Kingdom of Thailand                     |\n",
       "|Southern Africa                         |\n",
       "|French Republic                         |\n",
       "|Republic of Austria                     |\n",
       "|Republic of Guinea-Bissau               |\n",
       "|The Independent State of Papua New Guine|\n",
       "|Republic of Fiji                        |\n",
       "|Mercosur                                |\n",
       "|Republic of Ecuador                     |\n",
       "|Jamaica                                 |\n",
       "|Republic of Maldives                    |\n",
       "|Republic of Panama                      |\n",
       "|Republic of Mozambique                  |\n",
       "|Republic of Paraguay                    |\n",
       "|Caucasus                                |\n",
       "|Republic of Botswana                    |\n",
       "|Republic of Kenya                       |\n",
       "|Republic of Vanuatu                     |\n",
       "|Republic of Trinidad and Tobago         |\n",
       "|Samoa                                   |\n",
       "|Kyrgyz Republic                         |\n",
       "|Czech Republic                          |\n",
       "|Federal Republic of Nigeria             |\n",
       "|Republic of Colombia                    |\n",
       "|Belize                                  |\n",
       "|West Bank and Gaza                      |\n",
       "|St. Vincent and the Grenadines          |\n",
       "|Lebanese Republic                       |\n",
       "|Republic of Poland                      |\n",
       "|Republic of Kosovo                      |\n",
       "|Lao People's Democratic Republic        |\n",
       "|Union of the Comoros                    |\n",
       "|Republic of Kazakhstan                  |\n",
       "|Plurinational State of Bolivia          |\n",
       "|Antigua and Barbuda                     |\n",
       "|Kingdom of Bhutan                       |\n",
       "|Dominican Republic                      |\n",
       "|Republic of Latvia                      |\n",
       "|Republic of Singapore                   |\n",
       "|Sultanate of Oman                       |\n",
       "|Kingdom of Tonga                        |\n",
       "|Japan                                   |\n",
       "|Asia                                    |\n",
       "|Socialist People's Libyan Arab Jamahiriy|\n",
       "|New Zealand                             |\n",
       "|Italian Republic                        |\n",
       "|Islamic Republic of Pakistan            |\n",
       "|Bosnia and Herzegovina                  |\n",
       "|Co-operative Republic of Guyana         |\n",
       "|Portuguese Republic                     |\n",
       "|Republic of Moldova                     |\n",
       "|Somali Democratic Republic              |\n",
       "|People's Republic of China              |\n",
       "|Romania                                 |\n",
       "|Solomon Islands                         |\n",
       "|Arab Republic of Egypt                  |\n",
       "|Nepal                                   |\n",
       "|Republic of Tajikistan                  |\n",
       "|Republic of Lithuania                   |\n",
       "|Burkina Faso                            |\n",
       "|Democratic Republic of Sao Tome and Prin|\n",
       "|Red Sea and Gulf of Aden                |\n",
       "|Central Africa                          |\n",
       "|Mekong                                  |\n",
       "|Hungary                                 |\n",
       "|Commonwealth of Australia               |\n",
       "|State of Eritrea                        |\n",
       "|Republic of Uganda                      |\n",
       "|Republic of Slovenia                    |\n",
       "|Federal Democratic Republic of Ethiopia |\n",
       "|Republic of Zimbabwe                    |\n",
       "|Republic of Mali                        |\n",
       "|Republic of The Gambia                  |\n",
       "|Democratic Republic of Timor-Leste      |\n",
       "|Republic of Estonia                     |\n",
       "|Syrian Arab Republic                    |\n",
       "|Republic of Seychelles                  |\n",
       "|Slovak Republic                         |\n",
       "|Socialist Republic of Vietnam           |\n",
       "|Kingdom of Morocco                      |\n",
       "|Republic of Cyprus                      |\n",
       "|Republic of Ghana                       |\n",
       "+----------------------------------------+\n",
       "\n"
      ]
     },
     "metadata": {
      "application/vnd.databricks.v1+output": {
       "addedWidgets": {},
       "arguments": {},
       "data": "+----------------------------------------+\n|countryname                             |\n+----------------------------------------+\n|South Asia                              |\n|Republic of Indonesia                   |\n|EU Accession Countries                  |\n|Republic of Turkey                      |\n|Republic of Bulgaria                    |\n|World                                   |\n|Islamic Republic of Iran                |\n|Middle East and North Africa            |\n|Republic of South Africa                |\n|Western Balkans                         |\n|Republic of Namibia                     |\n|Taiwan, China                           |\n|Republic of Korea                       |\n|Republic of the Marshall Islands        |\n|Organization of Eastern Caribbean States|\n|State of Israel                         |\n|Latin America                           |\n|Republic of Liberia                     |\n|Malaysia                                |\n|Republic of Chile                       |\n|Kingdom of the Netherlands              |\n|Commonwealth of The Bahamas             |\n|Republic of Cabo Verde                  |\n|Republic of Burundi                     |\n|Republic of Sierra Leone                |\n|Gabonese Republic                       |\n|Republic of Benin                       |\n|Commonwealth of Dominica                |\n|Grand Duchy of Luxembourg               |\n|Kingdom of Eswatini                     |\n|Republic of Peru                        |\n|Socialist Federal Republic of Yugoslavia|\n|Republica Bolivariana de Venezuela      |\n|Republic of Azerbaijan                  |\n|People's Democratic Republic of Algeria |\n|Hashemite Kingdom of Jordan             |\n|Republic of Haiti                       |\n|Africa                                  |\n|Republic of Costa Rica                  |\n|Republic of the Philippines             |\n|Macedonia, Republic of North            |\n|Republic of Malta                       |\n|Kingdom of Norway                       |\n|Republic of Iraq                        |\n|Republic of Armenia                     |\n|Republic of Niger                       |\n|Democratic Socialist Republic of Sri Lan|\n|Islamic Republic of Mauritania          |\n|Republic of El Salvador                 |\n|Multi-Regional                          |\n|Republic of Kiribati                    |\n|Islamic  Republic of Afghanistan        |\n|Republic of Cote d'Ivoire               |\n|Republic of Angola                      |\n|Andean Countries                        |\n|Hellenic Republic                       |\n|St. Lucia                               |\n|St. Kitts and Nevis                     |\n|Central Asia                            |\n|American Samoa                          |\n|Republic of Cameroon                    |\n|Pacific Islands                         |\n|Tuvalu                                  |\n|Republic of Palau                       |\n|Central America                         |\n|United Republic of Tanzania             |\n|Republic of Guatemala                   |\n|Republic of Finland                     |\n|Republic of Iceland                     |\n|Kingdom of Lesotho                      |\n|Kingdom of Cambodia                     |\n|Republic of Malawi                      |\n|Republic of Djibouti                    |\n|East Asia and Pacific                   |\n|Republic of Suriname                    |\n|Republic of Belarus                     |\n|Kingdom of Denmark                      |\n|Republic of Togo                        |\n|Aral Sea                                |\n|Federative Republic of Brazil           |\n|Turkmenistan                            |\n|Republic of Mauritius                   |\n|Argentine Republic                      |\n|Republic of Guinea                      |\n|Republic of the Union of Myanmar        |\n|Republic of Croatia                     |\n|Central African Republic                |\n|Republic of Zambia                      |\n|Republic of Honduras                    |\n|Republic of South Sudan                 |\n|Barbados                                |\n|Europe and Central Asia                 |\n|Republic of India                       |\n|Russian Federation                      |\n|Ireland                                 |\n|Republic of Senegal                     |\n|Democratic Republic of the Congo        |\n|Caribbean                               |\n|Republic of Albania                     |\n|United Mexican States                   |\n|Republic of Yemen                       |\n|Republic of Rwanda                      |\n|Oriental Republic of Uruguay            |\n|Republic of Uzbekistan                  |\n|Ukraine                                 |\n|Western Africa                          |\n|Eastern Africa                          |\n|Republic of Congo                       |\n|Republic of Chad                        |\n|Kingdom of Belgium                      |\n|Republic of Serbia                      |\n|Kingdom of Spain                        |\n|People's Republic of Bangladesh         |\n|Republic of Tunisia                     |\n|Georgia                                 |\n|Montenegro                              |\n|Republic of Nicaragua                   |\n|Mongolia                                |\n|Sint Maarten                            |\n|Grenada                                 |\n|Federated States of Micronesia          |\n|Republic of Equatorial Guinea           |\n|Republic of Madagascar                  |\n|Republic of the Sudan                   |\n|Kingdom of Thailand                     |\n|Southern Africa                         |\n|French Republic                         |\n|Republic of Austria                     |\n|Republic of Guinea-Bissau               |\n|The Independent State of Papua New Guine|\n|Republic of Fiji                        |\n|Mercosur                                |\n|Republic of Ecuador                     |\n|Jamaica                                 |\n|Republic of Maldives                    |\n|Republic of Panama                      |\n|Republic of Mozambique                  |\n|Republic of Paraguay                    |\n|Caucasus                                |\n|Republic of Botswana                    |\n|Republic of Kenya                       |\n|Republic of Vanuatu                     |\n|Republic of Trinidad and Tobago         |\n|Samoa                                   |\n|Kyrgyz Republic                         |\n|Czech Republic                          |\n|Federal Republic of Nigeria             |\n|Republic of Colombia                    |\n|Belize                                  |\n|West Bank and Gaza                      |\n|St. Vincent and the Grenadines          |\n|Lebanese Republic                       |\n|Republic of Poland                      |\n|Republic of Kosovo                      |\n|Lao People's Democratic Republic        |\n|Union of the Comoros                    |\n|Republic of Kazakhstan                  |\n|Plurinational State of Bolivia          |\n|Antigua and Barbuda                     |\n|Kingdom of Bhutan                       |\n|Dominican Republic                      |\n|Republic of Latvia                      |\n|Republic of Singapore                   |\n|Sultanate of Oman                       |\n|Kingdom of Tonga                        |\n|Japan                                   |\n|Asia                                    |\n|Socialist People's Libyan Arab Jamahiriy|\n|New Zealand                             |\n|Italian Republic                        |\n|Islamic Republic of Pakistan            |\n|Bosnia and Herzegovina                  |\n|Co-operative Republic of Guyana         |\n|Portuguese Republic                     |\n|Republic of Moldova                     |\n|Somali Democratic Republic              |\n|People's Republic of China              |\n|Romania                                 |\n|Solomon Islands                         |\n|Arab Republic of Egypt                  |\n|Nepal                                   |\n|Republic of Tajikistan                  |\n|Republic of Lithuania                   |\n|Burkina Faso                            |\n|Democratic Republic of Sao Tome and Prin|\n|Red Sea and Gulf of Aden                |\n|Central Africa                          |\n|Mekong                                  |\n|Hungary                                 |\n|Commonwealth of Australia               |\n|State of Eritrea                        |\n|Republic of Uganda                      |\n|Republic of Slovenia                    |\n|Federal Democratic Republic of Ethiopia |\n|Republic of Zimbabwe                    |\n|Republic of Mali                        |\n|Republic of The Gambia                  |\n|Democratic Republic of Timor-Leste      |\n|Republic of Estonia                     |\n|Syrian Arab Republic                    |\n|Republic of Seychelles                  |\n|Slovak Republic                         |\n|Socialist Republic of Vietnam           |\n|Kingdom of Morocco                      |\n|Republic of Cyprus                      |\n|Republic of Ghana                       |\n+----------------------------------------+\n\n",
       "datasetInfos": [],
       "metadata": {},
       "removedWidgets": [],
       "type": "ansi"
      }
     },
     "output_type": "display_data"
    }
   ],
   "source": [
    "df4.select(\"countryname\").distinct().show(250,truncate = False)"
   ]
  },
  {
   "cell_type": "code",
   "execution_count": 0,
   "metadata": {
    "application/vnd.databricks.v1+cell": {
     "inputWidgets": {},
     "nuid": "d50f0a78-0f9e-4fdb-970f-e519fb53ce57",
     "showTitle": false,
     "title": ""
    }
   },
   "outputs": [],
   "source": [
    "from collections import defaultdict\n",
    "country_not_found = [] # stores countries not found in the pycountry library\n",
    "project_country_abbrev_dict = defaultdict(str) # set up an empty dictionary of string values\n",
    "\n",
    "# iterate through the country names in df_projects. \n",
    "# Create a dictionary mapping the country name to the alpha_3 ISO code\n",
    "for country in df3.select(\"countryname\").distinct().collect():\n",
    "    try: \n",
    "        # look up the country name in the pycountry library\n",
    "        # store the country name as the dictionary key and the ISO-3 code as the value\n",
    "        project_country_abbrev_dict[country[0]] = countries.lookup(country[0]).alpha_3\n",
    "        #print(country[\"countryname\"], 'FOUND')\n",
    "    except:\n",
    "        # If the country name is not in the pycountry library, then print out the country name\n",
    "        # And store the results in the country_not_found list\n",
    "        #print(country[\"countryname\"], ' not found')\n",
    "        country_not_found.append(country)"
   ]
  },
  {
   "cell_type": "code",
   "execution_count": 0,
   "metadata": {
    "application/vnd.databricks.v1+cell": {
     "inputWidgets": {},
     "nuid": "d3d46aab-55be-4946-93cf-2483031b93c1",
     "showTitle": false,
     "title": ""
    }
   },
   "outputs": [
    {
     "data": {
      "text/plain": [
       "defaultdict(<class 'str'>, {'Republic of Indonesia': 'IDN', 'Republic of Turkey': 'TUR', 'Republic of Bulgaria': 'BGR', 'Islamic Republic of Iran': 'IRN', 'Republic of South Africa': 'ZAF', 'Republic of Namibia': 'NAM', 'Republic of the Marshall Islands': 'MHL', 'State of Israel': 'ISR', 'Republic of Liberia': 'LBR', 'Malaysia': 'MYS', 'Republic of Chile': 'CHL', 'Kingdom of the Netherlands': 'NLD', 'Commonwealth of The Bahamas': 'BHS', 'Republic of Cabo Verde': 'CPV', 'Republic of Burundi': 'BDI', 'Republic of Sierra Leone': 'SLE', 'Gabonese Republic': 'GAB', 'Republic of Benin': 'BEN', 'Commonwealth of Dominica': 'DMA', 'Grand Duchy of Luxembourg': 'LUX', 'Kingdom of Eswatini': 'SWZ', 'Republic of Peru': 'PER', 'Republic of Azerbaijan': 'AZE', \"People's Democratic Republic of Algeria\": 'DZA', 'Hashemite Kingdom of Jordan': 'JOR', 'Republic of Haiti': 'HTI', 'Republic of Costa Rica': 'CRI', 'Republic of the Philippines': 'PHL', 'Republic of Malta': 'MLT', 'Kingdom of Norway': 'NOR', 'Republic of Iraq': 'IRQ', 'Republic of Armenia': 'ARM', 'Islamic Republic of Mauritania': 'MRT', 'Republic of El Salvador': 'SLV', 'Republic of Kiribati': 'KIR', 'Republic of Angola': 'AGO', 'Hellenic Republic': 'GRC', 'American Samoa': 'ASM', 'Republic of Cameroon': 'CMR', 'Tuvalu': 'TUV', 'Republic of Palau': 'PLW', 'United Republic of Tanzania': 'TZA', 'Republic of Guatemala': 'GTM', 'Republic of Finland': 'FIN', 'Republic of Iceland': 'ISL', 'Kingdom of Lesotho': 'LSO', 'Kingdom of Cambodia': 'KHM', 'Republic of Malawi': 'MWI', 'Republic of Djibouti': 'DJI', 'Republic of Suriname': 'SUR', 'Republic of Belarus': 'BLR', 'Kingdom of Denmark': 'DNK', 'Federative Republic of Brazil': 'BRA', 'Turkmenistan': 'TKM', 'Republic of Mauritius': 'MUS', 'Argentine Republic': 'ARG', 'Republic of Guinea': 'GIN', 'Republic of Croatia': 'HRV', 'Central African Republic': 'CAF', 'Republic of Zambia': 'ZMB', 'Republic of Honduras': 'HND', 'Republic of South Sudan': 'SSD', 'Barbados': 'BRB', 'Republic of India': 'IND', 'Russian Federation': 'RUS', 'Ireland': 'IRL', 'Republic of Senegal': 'SEN', 'Republic of Albania': 'ALB', 'United Mexican States': 'MEX', 'Republic of Yemen': 'YEM', 'Republic of Uzbekistan': 'UZB', 'Ukraine': 'UKR', 'Republic of Chad': 'TCD', 'Kingdom of Belgium': 'BEL', 'Republic of Serbia': 'SRB', 'Kingdom of Spain': 'ESP', \"People's Republic of Bangladesh\": 'BGD', 'Republic of Tunisia': 'TUN', 'Georgia': 'GEO', 'Montenegro': 'MNE', 'Republic of Nicaragua': 'NIC', 'Mongolia': 'MNG', 'Grenada': 'GRD', 'Federated States of Micronesia': 'FSM', 'Republic of Equatorial Guinea': 'GNQ', 'Republic of Madagascar': 'MDG', 'Republic of the Sudan': 'SDN', 'Kingdom of Thailand': 'THA', 'French Republic': 'FRA', 'Republic of Austria': 'AUT', 'Republic of Guinea-Bissau': 'GNB', 'Republic of Fiji': 'FJI', 'Republic of Ecuador': 'ECU', 'Jamaica': 'JAM', 'Republic of Maldives': 'MDV', 'Republic of Panama': 'PAN', 'Republic of Mozambique': 'MOZ', 'Republic of Paraguay': 'PRY', 'Republic of Botswana': 'BWA', 'Republic of Kenya': 'KEN', 'Republic of Vanuatu': 'VUT', 'Republic of Trinidad and Tobago': 'TTO', 'Samoa': 'WSM', 'Kyrgyz Republic': 'KGZ', 'Czech Republic': 'CZE', 'Federal Republic of Nigeria': 'NGA', 'Republic of Colombia': 'COL', 'Belize': 'BLZ', 'Lebanese Republic': 'LBN', 'Republic of Poland': 'POL', \"Lao People's Democratic Republic\": 'LAO', 'Union of the Comoros': 'COM', 'Republic of Kazakhstan': 'KAZ', 'Plurinational State of Bolivia': 'BOL', 'Antigua and Barbuda': 'ATG', 'Kingdom of Bhutan': 'BTN', 'Dominican Republic': 'DOM', 'Republic of Latvia': 'LVA', 'Republic of Singapore': 'SGP', 'Sultanate of Oman': 'OMN', 'Kingdom of Tonga': 'TON', 'Japan': 'JPN', 'New Zealand': 'NZL', 'Italian Republic': 'ITA', 'Islamic Republic of Pakistan': 'PAK', 'Bosnia and Herzegovina': 'BIH', 'Portuguese Republic': 'PRT', 'Republic of Moldova': 'MDA', \"People's Republic of China\": 'CHN', 'Romania': 'ROU', 'Solomon Islands': 'SLB', 'Arab Republic of Egypt': 'EGY', 'Nepal': 'NPL', 'Republic of Tajikistan': 'TJK', 'Republic of Lithuania': 'LTU', 'Burkina Faso': 'BFA', 'Hungary': 'HUN', 'Republic of Uganda': 'UGA', 'Republic of Slovenia': 'SVN', 'Federal Democratic Republic of Ethiopia': 'ETH', 'Republic of Zimbabwe': 'ZWE', 'Republic of Mali': 'MLI', 'Republic of The Gambia': 'GMB', 'Democratic Republic of Timor-Leste': 'TLS', 'Republic of Estonia': 'EST', 'Syrian Arab Republic': 'SYR', 'Republic of Seychelles': 'SYC', 'Slovak Republic': 'SVK', 'Kingdom of Morocco': 'MAR', 'Republic of Cyprus': 'CYP', 'Republic of Ghana': 'GHA'})\n"
      ]
     },
     "metadata": {
      "application/vnd.databricks.v1+output": {
       "addedWidgets": {},
       "arguments": {},
       "data": "defaultdict(<class 'str'>, {'Republic of Indonesia': 'IDN', 'Republic of Turkey': 'TUR', 'Republic of Bulgaria': 'BGR', 'Islamic Republic of Iran': 'IRN', 'Republic of South Africa': 'ZAF', 'Republic of Namibia': 'NAM', 'Republic of the Marshall Islands': 'MHL', 'State of Israel': 'ISR', 'Republic of Liberia': 'LBR', 'Malaysia': 'MYS', 'Republic of Chile': 'CHL', 'Kingdom of the Netherlands': 'NLD', 'Commonwealth of The Bahamas': 'BHS', 'Republic of Cabo Verde': 'CPV', 'Republic of Burundi': 'BDI', 'Republic of Sierra Leone': 'SLE', 'Gabonese Republic': 'GAB', 'Republic of Benin': 'BEN', 'Commonwealth of Dominica': 'DMA', 'Grand Duchy of Luxembourg': 'LUX', 'Kingdom of Eswatini': 'SWZ', 'Republic of Peru': 'PER', 'Republic of Azerbaijan': 'AZE', \"People's Democratic Republic of Algeria\": 'DZA', 'Hashemite Kingdom of Jordan': 'JOR', 'Republic of Haiti': 'HTI', 'Republic of Costa Rica': 'CRI', 'Republic of the Philippines': 'PHL', 'Republic of Malta': 'MLT', 'Kingdom of Norway': 'NOR', 'Republic of Iraq': 'IRQ', 'Republic of Armenia': 'ARM', 'Islamic Republic of Mauritania': 'MRT', 'Republic of El Salvador': 'SLV', 'Republic of Kiribati': 'KIR', 'Republic of Angola': 'AGO', 'Hellenic Republic': 'GRC', 'American Samoa': 'ASM', 'Republic of Cameroon': 'CMR', 'Tuvalu': 'TUV', 'Republic of Palau': 'PLW', 'United Republic of Tanzania': 'TZA', 'Republic of Guatemala': 'GTM', 'Republic of Finland': 'FIN', 'Republic of Iceland': 'ISL', 'Kingdom of Lesotho': 'LSO', 'Kingdom of Cambodia': 'KHM', 'Republic of Malawi': 'MWI', 'Republic of Djibouti': 'DJI', 'Republic of Suriname': 'SUR', 'Republic of Belarus': 'BLR', 'Kingdom of Denmark': 'DNK', 'Federative Republic of Brazil': 'BRA', 'Turkmenistan': 'TKM', 'Republic of Mauritius': 'MUS', 'Argentine Republic': 'ARG', 'Republic of Guinea': 'GIN', 'Republic of Croatia': 'HRV', 'Central African Republic': 'CAF', 'Republic of Zambia': 'ZMB', 'Republic of Honduras': 'HND', 'Republic of South Sudan': 'SSD', 'Barbados': 'BRB', 'Republic of India': 'IND', 'Russian Federation': 'RUS', 'Ireland': 'IRL', 'Republic of Senegal': 'SEN', 'Republic of Albania': 'ALB', 'United Mexican States': 'MEX', 'Republic of Yemen': 'YEM', 'Republic of Uzbekistan': 'UZB', 'Ukraine': 'UKR', 'Republic of Chad': 'TCD', 'Kingdom of Belgium': 'BEL', 'Republic of Serbia': 'SRB', 'Kingdom of Spain': 'ESP', \"People's Republic of Bangladesh\": 'BGD', 'Republic of Tunisia': 'TUN', 'Georgia': 'GEO', 'Montenegro': 'MNE', 'Republic of Nicaragua': 'NIC', 'Mongolia': 'MNG', 'Grenada': 'GRD', 'Federated States of Micronesia': 'FSM', 'Republic of Equatorial Guinea': 'GNQ', 'Republic of Madagascar': 'MDG', 'Republic of the Sudan': 'SDN', 'Kingdom of Thailand': 'THA', 'French Republic': 'FRA', 'Republic of Austria': 'AUT', 'Republic of Guinea-Bissau': 'GNB', 'Republic of Fiji': 'FJI', 'Republic of Ecuador': 'ECU', 'Jamaica': 'JAM', 'Republic of Maldives': 'MDV', 'Republic of Panama': 'PAN', 'Republic of Mozambique': 'MOZ', 'Republic of Paraguay': 'PRY', 'Republic of Botswana': 'BWA', 'Republic of Kenya': 'KEN', 'Republic of Vanuatu': 'VUT', 'Republic of Trinidad and Tobago': 'TTO', 'Samoa': 'WSM', 'Kyrgyz Republic': 'KGZ', 'Czech Republic': 'CZE', 'Federal Republic of Nigeria': 'NGA', 'Republic of Colombia': 'COL', 'Belize': 'BLZ', 'Lebanese Republic': 'LBN', 'Republic of Poland': 'POL', \"Lao People's Democratic Republic\": 'LAO', 'Union of the Comoros': 'COM', 'Republic of Kazakhstan': 'KAZ', 'Plurinational State of Bolivia': 'BOL', 'Antigua and Barbuda': 'ATG', 'Kingdom of Bhutan': 'BTN', 'Dominican Republic': 'DOM', 'Republic of Latvia': 'LVA', 'Republic of Singapore': 'SGP', 'Sultanate of Oman': 'OMN', 'Kingdom of Tonga': 'TON', 'Japan': 'JPN', 'New Zealand': 'NZL', 'Italian Republic': 'ITA', 'Islamic Republic of Pakistan': 'PAK', 'Bosnia and Herzegovina': 'BIH', 'Portuguese Republic': 'PRT', 'Republic of Moldova': 'MDA', \"People's Republic of China\": 'CHN', 'Romania': 'ROU', 'Solomon Islands': 'SLB', 'Arab Republic of Egypt': 'EGY', 'Nepal': 'NPL', 'Republic of Tajikistan': 'TJK', 'Republic of Lithuania': 'LTU', 'Burkina Faso': 'BFA', 'Hungary': 'HUN', 'Republic of Uganda': 'UGA', 'Republic of Slovenia': 'SVN', 'Federal Democratic Republic of Ethiopia': 'ETH', 'Republic of Zimbabwe': 'ZWE', 'Republic of Mali': 'MLI', 'Republic of The Gambia': 'GMB', 'Democratic Republic of Timor-Leste': 'TLS', 'Republic of Estonia': 'EST', 'Syrian Arab Republic': 'SYR', 'Republic of Seychelles': 'SYC', 'Slovak Republic': 'SVK', 'Kingdom of Morocco': 'MAR', 'Republic of Cyprus': 'CYP', 'Republic of Ghana': 'GHA'})\n",
       "datasetInfos": [],
       "metadata": {},
       "removedWidgets": [],
       "type": "ansi"
      }
     },
     "output_type": "display_data"
    }
   ],
   "source": [
    "print(project_country_abbrev_dict)\n"
   ]
  },
  {
   "cell_type": "code",
   "execution_count": 0,
   "metadata": {
    "application/vnd.databricks.v1+cell": {
     "inputWidgets": {},
     "nuid": "522dcbb8-6508-4150-b8b6-0453e5be6e54",
     "showTitle": false,
     "title": ""
    }
   },
   "outputs": [],
   "source": [
    "#The missing countries in the pycountries need to be manually mapped \n",
    "country_not_found_mapping = {'Co-operative Republic of Guyana': 'GUY',\n",
    "             'Commonwealth of Australia':'AUS',\n",
    "             'Democratic Republic of Sao Tome and Prin':'STP',\n",
    "             'Democratic Republic of the Congo':'COD',\n",
    "             'Democratic Socialist Republic of Sri Lan':'LKA',\n",
    "             'East Asia and Pacific':'EAS',\n",
    "             'Europe and Central Asia': 'ECS',\n",
    "             'Islamic  Republic of Afghanistan':'AFG',\n",
    "             'Latin America':'LCN',\n",
    "              'Caribbean':'CBN', #changed previously LCN\n",
    "             'Macedonia':'MKD',\n",
    "             'Middle East and North Africa':'MEA',\n",
    "             'Oriental Republic of Uruguay':'URY',\n",
    "             'Republic of Congo':'COG',\n",
    "             \"Republic of Cote d'Ivoire\":'CIV',\n",
    "             'Republic of Korea':'KOR',\n",
    "             'Republic of Niger':'NER',\n",
    "             'Republic of Kosovo':'XKX',\n",
    "             'Republic of Rwanda':'RWA',\n",
    "              'Republic of The Gambia':'GMB',\n",
    "              'Republic of Togo':'TGO',\n",
    "              'Republic of the Union of Myanmar':'MMR',\n",
    "              'Republica Bolivariana de Venezuela':'VEN',\n",
    "              'Sint Maarten':'SXM',\n",
    "              \"Socialist People's Libyan Arab Jamahiriy\":'LBY',\n",
    "              'Socialist Republic of Vietnam':'VNM',\n",
    "              'Somali Democratic Republic':'SOM',\n",
    "              'South Asia':'SAS',\n",
    "              'St. Kitts and Nevis':'KNA',\n",
    "              'St. Lucia':'LCA',\n",
    "              'St. Vincent and the Grenadines':'VCT',\n",
    "              'State of Eritrea':'ERI',\n",
    "              'The Independent State of Papua New Guine':'PNG',\n",
    "              'West Bank and Gaza':'PSE',\n",
    "              'World':'WLD',\n",
    "              'EU Accession Countries':'EAC', #from here to below added by me\n",
    "              'Western Balkans':'WBL',                         \n",
    "              'Taiwan, China':'TWC', #originally Taiwan, China                            \n",
    "              'Organization of Eastern Caribbean States':'ECB',\n",
    "              'Socialist Federal Republic of Yugoslavia':'YSL',\n",
    "              'Africa':'AFR',                                  \n",
    "              'Macedonia, Republic of North':'MCD',            \n",
    "              'Multi-Regional':'MRG',                          \n",
    "              'Andean Countries':'AND',                        \n",
    "              'Central Asia':'CAS',                            \n",
    "              'Pacific Islands':'PIS',                         \n",
    "              'Central America':'CAM',                         \n",
    "              'Aral Sea':'ASE',                                \n",
    "              'Western Africa':'WEA',                          \n",
    "              'Eastern Africa':'EAA',                          \n",
    "              'Southern Africa':'SOA',                         \n",
    "              'Mercosur':'MER',                                \n",
    "              'Caucasus':'CAU',                                \n",
    "              'Asia':'ASA',                                    \n",
    "              'Red Sea and Gulf of Aden':'RAA',                \n",
    "              'Central Africa':'CEA',                          \n",
    "              'Mekong':'MEK'             }"
   ]
  },
  {
   "cell_type": "code",
   "execution_count": 0,
   "metadata": {
    "application/vnd.databricks.v1+cell": {
     "inputWidgets": {},
     "nuid": "e9493a52-9622-4417-ab87-3f13ac29c2d8",
     "showTitle": false,
     "title": ""
    }
   },
   "outputs": [],
   "source": [
    "# Update the country and code dictionary with the missing values\n",
    "project_country_abbrev_dict.update(country_not_found_mapping)\n"
   ]
  },
  {
   "cell_type": "code",
   "execution_count": 0,
   "metadata": {
    "application/vnd.databricks.v1+cell": {
     "inputWidgets": {},
     "nuid": "78257831-6a57-4435-a80e-2527995b6890",
     "showTitle": false,
     "title": ""
    }
   },
   "outputs": [],
   "source": [
    "#creating the schema for the dataframe to be created\n",
    "#ddf = spark.createDataFrame(data_dict, schema)\n",
    "scm = StructType([\\\n",
    "                StructField(\"country\", StringType(), True),\\\n",
    "                StructField(\"country_code\", StringType(), True)\\\n",
    "                 ])\n",
    " "
   ]
  },
  {
   "cell_type": "code",
   "execution_count": 0,
   "metadata": {
    "application/vnd.databricks.v1+cell": {
     "inputWidgets": {},
     "nuid": "3aa424a1-3cb7-4339-9a7f-1118814b4c75",
     "showTitle": false,
     "title": ""
    }
   },
   "outputs": [],
   "source": [
    "ddf = spark.createDataFrame(project_country_abbrev_dict.items(), scm)"
   ]
  },
  {
   "cell_type": "code",
   "execution_count": 0,
   "metadata": {
    "application/vnd.databricks.v1+cell": {
     "inputWidgets": {},
     "nuid": "c188cd5a-63fa-4e70-b4d4-0299f7a822b9",
     "showTitle": false,
     "title": ""
    }
   },
   "outputs": [],
   "source": [
    "ddf2 = ddf.select(\"country_code\").filter(ddf.country_code == 'TCW')"
   ]
  },
  {
   "cell_type": "code",
   "execution_count": 0,
   "metadata": {
    "application/vnd.databricks.v1+cell": {
     "inputWidgets": {},
     "nuid": "57b9b1b8-b6d1-4b22-8e56-5cf90ffeec75",
     "showTitle": false,
     "title": ""
    }
   },
   "outputs": [
    {
     "data": {
      "text/plain": [
       "+------------+\n",
       "|country_code|\n",
       "+------------+\n",
       "+------------+\n",
       "\n"
      ]
     },
     "metadata": {
      "application/vnd.databricks.v1+output": {
       "addedWidgets": {},
       "arguments": {},
       "data": "+------------+\n|country_code|\n+------------+\n+------------+\n\n",
       "datasetInfos": [],
       "metadata": {},
       "removedWidgets": [],
       "type": "ansi"
      }
     },
     "output_type": "display_data"
    }
   ],
   "source": [
    "ddf2.show()"
   ]
  },
  {
   "cell_type": "code",
   "execution_count": 0,
   "metadata": {
    "application/vnd.databricks.v1+cell": {
     "inputWidgets": {},
     "nuid": "bc8822cc-8214-4062-9c58-95e64e708073",
     "showTitle": false,
     "title": ""
    }
   },
   "outputs": [
    {
     "data": {
      "text/plain": [
       "Out[37]: 207"
      ]
     },
     "metadata": {
      "application/vnd.databricks.v1+output": {
       "addedWidgets": {},
       "arguments": {},
       "data": "Out[37]: 207",
       "datasetInfos": [],
       "metadata": {},
       "removedWidgets": [],
       "type": "ansi"
      }
     },
     "output_type": "display_data"
    }
   ],
   "source": [
    "#checking if there are any duplicate country_codes\n",
    "ddf.select(\"country_code\").distinct().count() "
   ]
  },
  {
   "cell_type": "code",
   "execution_count": 0,
   "metadata": {
    "application/vnd.databricks.v1+cell": {
     "inputWidgets": {},
     "nuid": "92af27c1-3531-4e1a-80ac-d6f1e54b3004",
     "showTitle": false,
     "title": ""
    }
   },
   "outputs": [
    {
     "data": {
      "text/plain": [
       "Out[38]: 207"
      ]
     },
     "metadata": {
      "application/vnd.databricks.v1+output": {
       "addedWidgets": {},
       "arguments": {},
       "data": "Out[38]: 207",
       "datasetInfos": [],
       "metadata": {},
       "removedWidgets": [],
       "type": "ansi"
      }
     },
     "output_type": "display_data"
    }
   ],
   "source": [
    "ddf.select(\"country_code\").count()"
   ]
  },
  {
   "cell_type": "code",
   "execution_count": 0,
   "metadata": {
    "application/vnd.databricks.v1+cell": {
     "inputWidgets": {},
     "nuid": "cae4f6b3-1458-4040-8245-5df2c676a2c1",
     "showTitle": false,
     "title": ""
    }
   },
   "outputs": [
    {
     "data": {
      "text/plain": [
       "+------------+-----+\n",
       "|country_code|count|\n",
       "+------------+-----+\n",
       "+------------+-----+\n",
       "\n"
      ]
     },
     "metadata": {
      "application/vnd.databricks.v1+output": {
       "addedWidgets": {},
       "arguments": {},
       "data": "+------------+-----+\n|country_code|count|\n+------------+-----+\n+------------+-----+\n\n",
       "datasetInfos": [],
       "metadata": {},
       "removedWidgets": [],
       "type": "ansi"
      }
     },
     "output_type": "display_data"
    }
   ],
   "source": [
    "#finding the repeated value\n",
    "ddf1 = ddf.groupby(\"country_code\").count().filter(\"count>1\").show()"
   ]
  },
  {
   "cell_type": "code",
   "execution_count": 0,
   "metadata": {
    "application/vnd.databricks.v1+cell": {
     "inputWidgets": {},
     "nuid": "26cb53b5-00d8-4405-9f64-91638b3a4fb0",
     "showTitle": false,
     "title": ""
    }
   },
   "outputs": [],
   "source": [
    "#joining the dataframes on the countryname and country column to add the countrycode \n",
    "dfc = df4.join(ddf, df4.countryname == ddf.country,\"leftouter\").drop(\"country\")#.withColumn(\"code\", ddf.value)"
   ]
  },
  {
   "cell_type": "code",
   "execution_count": 0,
   "metadata": {
    "application/vnd.databricks.v1+cell": {
     "inputWidgets": {},
     "nuid": "ed489aee-a25d-45ac-8a06-a24e6cdb64e7",
     "showTitle": false,
     "title": ""
    }
   },
   "outputs": [
    {
     "data": {
      "text/plain": [
       "Out[41]: 21425"
      ]
     },
     "metadata": {
      "application/vnd.databricks.v1+output": {
       "addedWidgets": {},
       "arguments": {},
       "data": "Out[41]: 21425",
       "datasetInfos": [],
       "metadata": {},
       "removedWidgets": [],
       "type": "ansi"
      }
     },
     "output_type": "display_data"
    }
   ],
   "source": [
    "dfc.distinct().count()"
   ]
  },
  {
   "cell_type": "code",
   "execution_count": 0,
   "metadata": {
    "application/vnd.databricks.v1+cell": {
     "inputWidgets": {},
     "nuid": "7aff791d-81ca-4445-bd0c-c8f25d559775",
     "showTitle": false,
     "title": ""
    }
   },
   "outputs": [
    {
     "data": {
      "text/plain": [
       "Out[42]: 21425"
      ]
     },
     "metadata": {
      "application/vnd.databricks.v1+output": {
       "addedWidgets": {},
       "arguments": {},
       "data": "Out[42]: 21425",
       "datasetInfos": [],
       "metadata": {},
       "removedWidgets": [],
       "type": "ansi"
      }
     },
     "output_type": "display_data"
    }
   ],
   "source": [
    "dfc.count()"
   ]
  },
  {
   "cell_type": "code",
   "execution_count": 0,
   "metadata": {
    "application/vnd.databricks.v1+cell": {
     "inputWidgets": {},
     "nuid": "2c098a9b-26ac-4433-a169-540f0d4be3bc",
     "showTitle": false,
     "title": ""
    }
   },
   "outputs": [
    {
     "data": {
      "text/plain": [
       "+-------+--------------------+--------------------+-----------------+-----------+-----------------+--------------------+-------------------+-----------------+--------+------------+\n",
       "|    pid|          regionname|         countryname|boardapprovaldate|closingdate|curr_project_cost|curr_ibrd_commitment|curr_ida_commitment|curr_total_commit|grantamt|country_code|\n",
       "+-------+--------------------+--------------------+-----------------+-----------+-----------------+--------------------+-------------------+-----------------+--------+------------+\n",
       "|P172078|         Africa East|  Republic of Uganda|       2022-02-20| 2021-08-31|           440000|                   0|                  0|                0|  440000|         UGA|\n",
       "|P175694|Middle East and N...|    Republic of Iraq|       2022-02-16|       null|          5000000|                   0|                  0|                0| 5000000|         IRQ|\n",
       "|P171997|         Africa West| Republic of Liberia|       2022-02-09| 2027-04-30|         40000000|                   0|           40000000|         40000000|       0|         LBR|\n",
       "|P166189|         Africa West|   Republic of Congo|       2022-02-08|       null|         15580000|                   0|                  0|                0|15580000|         COG|\n",
       "|P174399|          South Asia|   Kingdom of Bhutan|       2022-02-03|       null|         43010000|                   0|           20000000|         20000000|       0|         BTN|\n",
       "|P176403|Middle East and N...|  West Bank and Gaza|       2022-02-02|       null|          3750000|                   0|                  0|                0| 3750000|         PSE|\n",
       "|P178159|              Africa|              Africa|       2022-02-02| 2024-01-31|          1000000|                   0|                  0|                0| 1000000|         AFR|\n",
       "|P176983|Latin America and...| Republic of Ecuador|       2022-02-01| 2023-01-31|        700000000|           700000000|                  0|        700000000|       0|         ECU|\n",
       "|P172800|         Africa West|Republic of Cote ...|       2022-01-31| 2026-12-31|        150000000|                   0|          150000000|        150000000|       0|         CIV|\n",
       "|P173076|Europe and Centra...| Republic of Moldova|       2022-01-31| 2027-01-31|         52800000|                   0|           50000000|         50000000|       0|         MDA|\n",
       "|P174875|         Africa East|Somali Democratic...|       2022-01-26|       null|          4850000|                   0|                  0|                0| 4850000|         SOM|\n",
       "|P167798|         Africa West|      Western Africa|       2022-01-20|       null|        816000000|                   0|          538000000|        538000000|       0|         WEA|\n",
       "|P174246|         Africa East|Republic of South...|       2022-01-20| 2023-06-30|        750000000|           750000000|                  0|        750000000|       0|         ZAF|\n",
       "|P177200|               Other|               World|       2022-01-20|       null|          2260000|                   0|                  0|                0|  740000|         WLD|\n",
       "|P174564|          South Asia|   Republic of India|       2022-01-19| 2028-08-31|        753000000|           125000000|                  0|        125000000|       0|         IND|\n",
       "|P176105|Latin America and...|Oriental Republic...|       2022-01-19| 2027-06-30|         40000000|            40000000|                  0|         40000000|       0|         URY|\n",
       "|P171438|Europe and Centra...| Republic of Albania|       2022-01-19|       null|         34600000|            34600000|                  0|         34600000|       0|         ALB|\n",
       "|P174335|East Asia and Pac...| Kingdom of Cambodia|       2022-01-18| 2026-11-30|         69250000|                   0|           60000000|         60000000|       0|         KHM|\n",
       "|P171660|East Asia and Pac...|Socialist Republi...|       2022-01-18|       null|          2700000|                   0|                  0|                0| 2500000|         VNM|\n",
       "|P173450|Europe and Centra...|Republic of Uzbek...|       2022-01-16| 2027-07-15|         50000000|                   0|           50000000|         50000000|       0|         UZB|\n",
       "+-------+--------------------+--------------------+-----------------+-----------+-----------------+--------------------+-------------------+-----------------+--------+------------+\n",
       "only showing top 20 rows\n",
       "\n"
      ]
     },
     "metadata": {
      "application/vnd.databricks.v1+output": {
       "addedWidgets": {},
       "arguments": {},
       "data": "+-------+--------------------+--------------------+-----------------+-----------+-----------------+--------------------+-------------------+-----------------+--------+------------+\n|    pid|          regionname|         countryname|boardapprovaldate|closingdate|curr_project_cost|curr_ibrd_commitment|curr_ida_commitment|curr_total_commit|grantamt|country_code|\n+-------+--------------------+--------------------+-----------------+-----------+-----------------+--------------------+-------------------+-----------------+--------+------------+\n|P172078|         Africa East|  Republic of Uganda|       2022-02-20| 2021-08-31|           440000|                   0|                  0|                0|  440000|         UGA|\n|P175694|Middle East and N...|    Republic of Iraq|       2022-02-16|       null|          5000000|                   0|                  0|                0| 5000000|         IRQ|\n|P171997|         Africa West| Republic of Liberia|       2022-02-09| 2027-04-30|         40000000|                   0|           40000000|         40000000|       0|         LBR|\n|P166189|         Africa West|   Republic of Congo|       2022-02-08|       null|         15580000|                   0|                  0|                0|15580000|         COG|\n|P174399|          South Asia|   Kingdom of Bhutan|       2022-02-03|       null|         43010000|                   0|           20000000|         20000000|       0|         BTN|\n|P176403|Middle East and N...|  West Bank and Gaza|       2022-02-02|       null|          3750000|                   0|                  0|                0| 3750000|         PSE|\n|P178159|              Africa|              Africa|       2022-02-02| 2024-01-31|          1000000|                   0|                  0|                0| 1000000|         AFR|\n|P176983|Latin America and...| Republic of Ecuador|       2022-02-01| 2023-01-31|        700000000|           700000000|                  0|        700000000|       0|         ECU|\n|P172800|         Africa West|Republic of Cote ...|       2022-01-31| 2026-12-31|        150000000|                   0|          150000000|        150000000|       0|         CIV|\n|P173076|Europe and Centra...| Republic of Moldova|       2022-01-31| 2027-01-31|         52800000|                   0|           50000000|         50000000|       0|         MDA|\n|P174875|         Africa East|Somali Democratic...|       2022-01-26|       null|          4850000|                   0|                  0|                0| 4850000|         SOM|\n|P167798|         Africa West|      Western Africa|       2022-01-20|       null|        816000000|                   0|          538000000|        538000000|       0|         WEA|\n|P174246|         Africa East|Republic of South...|       2022-01-20| 2023-06-30|        750000000|           750000000|                  0|        750000000|       0|         ZAF|\n|P177200|               Other|               World|       2022-01-20|       null|          2260000|                   0|                  0|                0|  740000|         WLD|\n|P174564|          South Asia|   Republic of India|       2022-01-19| 2028-08-31|        753000000|           125000000|                  0|        125000000|       0|         IND|\n|P176105|Latin America and...|Oriental Republic...|       2022-01-19| 2027-06-30|         40000000|            40000000|                  0|         40000000|       0|         URY|\n|P171438|Europe and Centra...| Republic of Albania|       2022-01-19|       null|         34600000|            34600000|                  0|         34600000|       0|         ALB|\n|P174335|East Asia and Pac...| Kingdom of Cambodia|       2022-01-18| 2026-11-30|         69250000|                   0|           60000000|         60000000|       0|         KHM|\n|P171660|East Asia and Pac...|Socialist Republi...|       2022-01-18|       null|          2700000|                   0|                  0|                0| 2500000|         VNM|\n|P173450|Europe and Centra...|Republic of Uzbek...|       2022-01-16| 2027-07-15|         50000000|                   0|           50000000|         50000000|       0|         UZB|\n+-------+--------------------+--------------------+-----------------+-----------+-----------------+--------------------+-------------------+-----------------+--------+------------+\nonly showing top 20 rows\n\n",
       "datasetInfos": [],
       "metadata": {},
       "removedWidgets": [],
       "type": "ansi"
      }
     },
     "output_type": "display_data"
    }
   ],
   "source": [
    "dfc.show()\n"
   ]
  },
  {
   "cell_type": "code",
   "execution_count": 0,
   "metadata": {
    "application/vnd.databricks.v1+cell": {
     "inputWidgets": {},
     "nuid": "b92380bf-b47a-4e0b-99cf-d4f5544265a1",
     "showTitle": false,
     "title": ""
    }
   },
   "outputs": [
    {
     "data": {
      "text/plain": [
       "+-----------+\n",
       "|countryname|\n",
       "+-----------+\n",
       "+-----------+\n",
       "\n"
      ]
     },
     "metadata": {
      "application/vnd.databricks.v1+output": {
       "addedWidgets": {},
       "arguments": {},
       "data": "+-----------+\n|countryname|\n+-----------+\n+-----------+\n\n",
       "datasetInfos": [],
       "metadata": {},
       "removedWidgets": [],
       "type": "ansi"
      }
     },
     "output_type": "display_data"
    }
   ],
   "source": [
    "#checking if any countrycode has null value\n",
    "dfc.select(\"countryname\").filter(\"country_code IS NULL\").distinct().show(300, truncate = False)"
   ]
  },
  {
   "cell_type": "code",
   "execution_count": 0,
   "metadata": {
    "application/vnd.databricks.v1+cell": {
     "inputWidgets": {},
     "nuid": "e305fe98-2e7f-4524-9e64-4599363d5438",
     "showTitle": false,
     "title": ""
    }
   },
   "outputs": [],
   "source": [
    "#read the country_metadata \n",
    "#drop columns \"SpecialNotes\" & \"_c5\"\n",
    "#join wb_projects and country_metadata on country_code\n",
    "#add the IncomeGroup column\n",
    "#if any country remains with null value in Income group then join by region to fill the nulls"
   ]
  },
  {
   "cell_type": "code",
   "execution_count": 0,
   "metadata": {
    "application/vnd.databricks.v1+cell": {
     "inputWidgets": {},
     "nuid": "7e8ae5ae-4927-4203-9d38-291ef5e18c90",
     "showTitle": false,
     "title": ""
    }
   },
   "outputs": [],
   "source": [
    "DF_country_meta = spark.read.csv(\"/FileStore/tables/country_metadata.csv\", inferSchema = True, header = True)"
   ]
  },
  {
   "cell_type": "code",
   "execution_count": 0,
   "metadata": {
    "application/vnd.databricks.v1+cell": {
     "inputWidgets": {},
     "nuid": "702e7f6d-6353-49ad-8c0d-19c9089a6eeb",
     "showTitle": false,
     "title": ""
    }
   },
   "outputs": [],
   "source": [
    "DF_meta = DF_country_meta.drop(\"SpecialNotes\", \"_c5\")"
   ]
  },
  {
   "cell_type": "code",
   "execution_count": 0,
   "metadata": {
    "application/vnd.databricks.v1+cell": {
     "inputWidgets": {},
     "nuid": "679ba9af-668a-4dc2-9ac2-16376bed8be7",
     "showTitle": false,
     "title": ""
    }
   },
   "outputs": [],
   "source": [
    "DF_joined = dfc.join(DF_meta, dfc[\"country_code\"] == DF_meta[\"Country Code\"], \"leftouter\").drop(\"Country Code\", \"Region\", \"TableName\")"
   ]
  },
  {
   "cell_type": "code",
   "execution_count": 0,
   "metadata": {
    "application/vnd.databricks.v1+cell": {
     "inputWidgets": {},
     "nuid": "bcef87aa-3b35-4c85-8c67-95a85c25e21b",
     "showTitle": false,
     "title": ""
    }
   },
   "outputs": [
    {
     "data": {
      "text/plain": [
       "+-------+--------------------+--------------------+-----------------+-----------+-----------------+--------------------+-------------------+-----------------+--------+------------+-------------------+\n",
       "|    pid|          regionname|         countryname|boardapprovaldate|closingdate|curr_project_cost|curr_ibrd_commitment|curr_ida_commitment|curr_total_commit|grantamt|country_code|        IncomeGroup|\n",
       "+-------+--------------------+--------------------+-----------------+-----------+-----------------+--------------------+-------------------+-----------------+--------+------------+-------------------+\n",
       "|P172078|         Africa East|  Republic of Uganda|       2022-02-20| 2021-08-31|           440000|                   0|                  0|                0|  440000|         UGA|         Low income|\n",
       "|P175694|Middle East and N...|    Republic of Iraq|       2022-02-16|       null|          5000000|                   0|                  0|                0| 5000000|         IRQ|Upper middle income|\n",
       "|P171997|         Africa West| Republic of Liberia|       2022-02-09| 2027-04-30|         40000000|                   0|           40000000|         40000000|       0|         LBR|         Low income|\n",
       "|P166189|         Africa West|   Republic of Congo|       2022-02-08|       null|         15580000|                   0|                  0|                0|15580000|         COG|Lower middle income|\n",
       "|P174399|          South Asia|   Kingdom of Bhutan|       2022-02-03|       null|         43010000|                   0|           20000000|         20000000|       0|         BTN|Lower middle income|\n",
       "|P176403|Middle East and N...|  West Bank and Gaza|       2022-02-02|       null|          3750000|                   0|                  0|                0| 3750000|         PSE|Lower middle income|\n",
       "|P178159|              Africa|              Africa|       2022-02-02| 2024-01-31|          1000000|                   0|                  0|                0| 1000000|         AFR|               null|\n",
       "|P176983|Latin America and...| Republic of Ecuador|       2022-02-01| 2023-01-31|        700000000|           700000000|                  0|        700000000|       0|         ECU|Upper middle income|\n",
       "|P172800|         Africa West|Republic of Cote ...|       2022-01-31| 2026-12-31|        150000000|                   0|          150000000|        150000000|       0|         CIV|Lower middle income|\n",
       "|P173076|Europe and Centra...| Republic of Moldova|       2022-01-31| 2027-01-31|         52800000|                   0|           50000000|         50000000|       0|         MDA|Upper middle income|\n",
       "|P174875|         Africa East|Somali Democratic...|       2022-01-26|       null|          4850000|                   0|                  0|                0| 4850000|         SOM|         Low income|\n",
       "|P167798|         Africa West|      Western Africa|       2022-01-20|       null|        816000000|                   0|          538000000|        538000000|       0|         WEA|               null|\n",
       "|P174246|         Africa East|Republic of South...|       2022-01-20| 2023-06-30|        750000000|           750000000|                  0|        750000000|       0|         ZAF|Upper middle income|\n",
       "|P177200|               Other|               World|       2022-01-20|       null|          2260000|                   0|                  0|                0|  740000|         WLD|               null|\n",
       "|P174564|          South Asia|   Republic of India|       2022-01-19| 2028-08-31|        753000000|           125000000|                  0|        125000000|       0|         IND|Lower middle income|\n",
       "|P176105|Latin America and...|Oriental Republic...|       2022-01-19| 2027-06-30|         40000000|            40000000|                  0|         40000000|       0|         URY|        High income|\n",
       "|P171438|Europe and Centra...| Republic of Albania|       2022-01-19|       null|         34600000|            34600000|                  0|         34600000|       0|         ALB|Upper middle income|\n",
       "|P174335|East Asia and Pac...| Kingdom of Cambodia|       2022-01-18| 2026-11-30|         69250000|                   0|           60000000|         60000000|       0|         KHM|Lower middle income|\n",
       "|P171660|East Asia and Pac...|Socialist Republi...|       2022-01-18|       null|          2700000|                   0|                  0|                0| 2500000|         VNM|Lower middle income|\n",
       "|P173450|Europe and Centra...|Republic of Uzbek...|       2022-01-16| 2027-07-15|         50000000|                   0|           50000000|         50000000|       0|         UZB|Lower middle income|\n",
       "+-------+--------------------+--------------------+-----------------+-----------+-----------------+--------------------+-------------------+-----------------+--------+------------+-------------------+\n",
       "only showing top 20 rows\n",
       "\n"
      ]
     },
     "metadata": {
      "application/vnd.databricks.v1+output": {
       "addedWidgets": {},
       "arguments": {},
       "data": "+-------+--------------------+--------------------+-----------------+-----------+-----------------+--------------------+-------------------+-----------------+--------+------------+-------------------+\n|    pid|          regionname|         countryname|boardapprovaldate|closingdate|curr_project_cost|curr_ibrd_commitment|curr_ida_commitment|curr_total_commit|grantamt|country_code|        IncomeGroup|\n+-------+--------------------+--------------------+-----------------+-----------+-----------------+--------------------+-------------------+-----------------+--------+------------+-------------------+\n|P172078|         Africa East|  Republic of Uganda|       2022-02-20| 2021-08-31|           440000|                   0|                  0|                0|  440000|         UGA|         Low income|\n|P175694|Middle East and N...|    Republic of Iraq|       2022-02-16|       null|          5000000|                   0|                  0|                0| 5000000|         IRQ|Upper middle income|\n|P171997|         Africa West| Republic of Liberia|       2022-02-09| 2027-04-30|         40000000|                   0|           40000000|         40000000|       0|         LBR|         Low income|\n|P166189|         Africa West|   Republic of Congo|       2022-02-08|       null|         15580000|                   0|                  0|                0|15580000|         COG|Lower middle income|\n|P174399|          South Asia|   Kingdom of Bhutan|       2022-02-03|       null|         43010000|                   0|           20000000|         20000000|       0|         BTN|Lower middle income|\n|P176403|Middle East and N...|  West Bank and Gaza|       2022-02-02|       null|          3750000|                   0|                  0|                0| 3750000|         PSE|Lower middle income|\n|P178159|              Africa|              Africa|       2022-02-02| 2024-01-31|          1000000|                   0|                  0|                0| 1000000|         AFR|               null|\n|P176983|Latin America and...| Republic of Ecuador|       2022-02-01| 2023-01-31|        700000000|           700000000|                  0|        700000000|       0|         ECU|Upper middle income|\n|P172800|         Africa West|Republic of Cote ...|       2022-01-31| 2026-12-31|        150000000|                   0|          150000000|        150000000|       0|         CIV|Lower middle income|\n|P173076|Europe and Centra...| Republic of Moldova|       2022-01-31| 2027-01-31|         52800000|                   0|           50000000|         50000000|       0|         MDA|Upper middle income|\n|P174875|         Africa East|Somali Democratic...|       2022-01-26|       null|          4850000|                   0|                  0|                0| 4850000|         SOM|         Low income|\n|P167798|         Africa West|      Western Africa|       2022-01-20|       null|        816000000|                   0|          538000000|        538000000|       0|         WEA|               null|\n|P174246|         Africa East|Republic of South...|       2022-01-20| 2023-06-30|        750000000|           750000000|                  0|        750000000|       0|         ZAF|Upper middle income|\n|P177200|               Other|               World|       2022-01-20|       null|          2260000|                   0|                  0|                0|  740000|         WLD|               null|\n|P174564|          South Asia|   Republic of India|       2022-01-19| 2028-08-31|        753000000|           125000000|                  0|        125000000|       0|         IND|Lower middle income|\n|P176105|Latin America and...|Oriental Republic...|       2022-01-19| 2027-06-30|         40000000|            40000000|                  0|         40000000|       0|         URY|        High income|\n|P171438|Europe and Centra...| Republic of Albania|       2022-01-19|       null|         34600000|            34600000|                  0|         34600000|       0|         ALB|Upper middle income|\n|P174335|East Asia and Pac...| Kingdom of Cambodia|       2022-01-18| 2026-11-30|         69250000|                   0|           60000000|         60000000|       0|         KHM|Lower middle income|\n|P171660|East Asia and Pac...|Socialist Republi...|       2022-01-18|       null|          2700000|                   0|                  0|                0| 2500000|         VNM|Lower middle income|\n|P173450|Europe and Centra...|Republic of Uzbek...|       2022-01-16| 2027-07-15|         50000000|                   0|           50000000|         50000000|       0|         UZB|Lower middle income|\n+-------+--------------------+--------------------+-----------------+-----------+-----------------+--------------------+-------------------+-----------------+--------+------------+-------------------+\nonly showing top 20 rows\n\n",
       "datasetInfos": [],
       "metadata": {},
       "removedWidgets": [],
       "type": "ansi"
      }
     },
     "output_type": "display_data"
    }
   ],
   "source": [
    "DF_joined.show()"
   ]
  },
  {
   "cell_type": "code",
   "execution_count": 0,
   "metadata": {
    "application/vnd.databricks.v1+cell": {
     "inputWidgets": {},
     "nuid": "1a7e375d-95b2-4418-a213-dea538271784",
     "showTitle": false,
     "title": ""
    }
   },
   "outputs": [
    {
     "data": {
      "text/plain": [
       "+----------------------------------------+\n",
       "|countryname                             |\n",
       "+----------------------------------------+\n",
       "|South Asia                              |\n",
       "|EU Accession Countries                  |\n",
       "|World                                   |\n",
       "|Middle East and North Africa            |\n",
       "|Western Balkans                         |\n",
       "|Taiwan, China                           |\n",
       "|Organization of Eastern Caribbean States|\n",
       "|Latin America                           |\n",
       "|Socialist Federal Republic of Yugoslavia|\n",
       "|Republica Bolivariana de Venezuela      |\n",
       "|Africa                                  |\n",
       "|Macedonia, Republic of North            |\n",
       "|Multi-Regional                          |\n",
       "|Central Asia                            |\n",
       "|Pacific Islands                         |\n",
       "|Central America                         |\n",
       "|East Asia and Pacific                   |\n",
       "|Aral Sea                                |\n",
       "|Europe and Central Asia                 |\n",
       "|Caribbean                               |\n",
       "|Western Africa                          |\n",
       "|Eastern Africa                          |\n",
       "|Southern Africa                         |\n",
       "|Mercosur                                |\n",
       "|Caucasus                                |\n",
       "|Asia                                    |\n",
       "|Red Sea and Gulf of Aden                |\n",
       "|Central Africa                          |\n",
       "|Mekong                                  |\n",
       "+----------------------------------------+\n",
       "\n"
      ]
     },
     "metadata": {
      "application/vnd.databricks.v1+output": {
       "addedWidgets": {},
       "arguments": {},
       "data": "+----------------------------------------+\n|countryname                             |\n+----------------------------------------+\n|South Asia                              |\n|EU Accession Countries                  |\n|World                                   |\n|Middle East and North Africa            |\n|Western Balkans                         |\n|Taiwan, China                           |\n|Organization of Eastern Caribbean States|\n|Latin America                           |\n|Socialist Federal Republic of Yugoslavia|\n|Republica Bolivariana de Venezuela      |\n|Africa                                  |\n|Macedonia, Republic of North            |\n|Multi-Regional                          |\n|Central Asia                            |\n|Pacific Islands                         |\n|Central America                         |\n|East Asia and Pacific                   |\n|Aral Sea                                |\n|Europe and Central Asia                 |\n|Caribbean                               |\n|Western Africa                          |\n|Eastern Africa                          |\n|Southern Africa                         |\n|Mercosur                                |\n|Caucasus                                |\n|Asia                                    |\n|Red Sea and Gulf of Aden                |\n|Central Africa                          |\n|Mekong                                  |\n+----------------------------------------+\n\n",
       "datasetInfos": [],
       "metadata": {},
       "removedWidgets": [],
       "type": "ansi"
      }
     },
     "output_type": "display_data"
    }
   ],
   "source": [
    "DF_joined.filter(\"IncomeGroup IS NULL\").select(DF_joined.countryname).distinct().show(250, truncate = False)"
   ]
  },
  {
   "cell_type": "code",
   "execution_count": 0,
   "metadata": {
    "application/vnd.databricks.v1+cell": {
     "inputWidgets": {},
     "nuid": "f3e03cf2-1c8b-4d4f-823b-4e8b572f17f3",
     "showTitle": false,
     "title": ""
    }
   },
   "outputs": [
    {
     "data": {
      "text/plain": [
       "Out[65]: 21425"
      ]
     },
     "metadata": {
      "application/vnd.databricks.v1+output": {
       "addedWidgets": {},
       "arguments": {},
       "data": "Out[65]: 21425",
       "datasetInfos": [],
       "metadata": {},
       "removedWidgets": [],
       "type": "ansi"
      }
     },
     "output_type": "display_data"
    }
   ],
   "source": [
    "DF_joined.select(DF_joined.pid).count()"
   ]
  },
  {
   "cell_type": "code",
   "execution_count": 0,
   "metadata": {
    "application/vnd.databricks.v1+cell": {
     "inputWidgets": {},
     "nuid": "53983328-6a46-4639-bc7d-2fa643cb072e",
     "showTitle": false,
     "title": ""
    }
   },
   "outputs": [],
   "source": [
    "DF = DF_joined.filter(\"Incomegroup IS NOT NULL\").groupby(\"IncomeGroup\").sum(\"grantamt\").sort(\"sum(grantamt)\")"
   ]
  },
  {
   "cell_type": "code",
   "execution_count": null,
   "metadata": {},
   "outputs": [],
   "source": [
    "x = DF.toPandas()[\"IncomeGroup\"].values.tolist()\n",
    "y = DF.toPandas()[\"sum(grantamt)\"].values.tolist()"
   ]
  },
  {
   "cell_type": "code",
   "execution_count": null,
   "metadata": {},
   "outputs": [],
   "source": [
    "plt.axis(\"equal\")\n",
    "plt.pie(y,labels=x, autopct='%.1f%%')\n",
    "plt.show()"
   ]
  }
 ],
 "metadata": {
  "application/vnd.databricks.v1+notebook": {
   "dashboards": [],
   "language": "python",
   "notebookMetadata": {
    "pythonIndentUnit": 4
   },
   "notebookName": "world bank ETL (2)",
   "notebookOrigID": 809163093360108,
   "widgets": {}
  },
  "kernelspec": {
   "display_name": "Python 3 (ipykernel)",
   "language": "python",
   "name": "python3"
  },
  "language_info": {
   "codemirror_mode": {
    "name": "ipython",
    "version": 3
   },
   "file_extension": ".py",
   "mimetype": "text/x-python",
   "name": "python",
   "nbconvert_exporter": "python",
   "pygments_lexer": "ipython3",
   "version": "3.9.7"
  }
 },
 "nbformat": 4,
 "nbformat_minor": 1
}
